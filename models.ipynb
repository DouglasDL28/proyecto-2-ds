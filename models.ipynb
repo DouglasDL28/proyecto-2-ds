{
 "cells": [
  {
   "cell_type": "code",
   "execution_count": 125,
   "id": "30bfe99d",
   "metadata": {},
   "outputs": [],
   "source": [
    "import numpy as np\n",
    "import pandas as pd\n",
    "\n",
    "from collections import Counter\n",
    "\n",
    "import seaborn as sns\n",
    "import matplotlib.pyplot as plt\n",
    "%matplotlib inline"
   ]
  },
  {
   "cell_type": "code",
   "execution_count": 163,
   "id": "b6af2479",
   "metadata": {},
   "outputs": [],
   "source": [
    "data = pd.read_csv(\"./data/clean_data.csv\")"
   ]
  },
  {
   "cell_type": "code",
   "execution_count": 164,
   "id": "8d694c79",
   "metadata": {},
   "outputs": [
    {
     "data": {
      "text/html": [
       "<div>\n",
       "<style scoped>\n",
       "    .dataframe tbody tr th:only-of-type {\n",
       "        vertical-align: middle;\n",
       "    }\n",
       "\n",
       "    .dataframe tbody tr th {\n",
       "        vertical-align: top;\n",
       "    }\n",
       "\n",
       "    .dataframe thead th {\n",
       "        text-align: right;\n",
       "    }\n",
       "</style>\n",
       "<table border=\"1\" class=\"dataframe\">\n",
       "  <thead>\n",
       "    <tr style=\"text-align: right;\">\n",
       "      <th></th>\n",
       "      <th>Unnamed: 0</th>\n",
       "      <th>id</th>\n",
       "      <th>limit_bal</th>\n",
       "      <th>age</th>\n",
       "      <th>bill_amt1</th>\n",
       "      <th>bill_amt2</th>\n",
       "      <th>bill_amt3</th>\n",
       "      <th>bill_amt4</th>\n",
       "      <th>bill_amt5</th>\n",
       "      <th>bill_amt6</th>\n",
       "      <th>...</th>\n",
       "      <th>pay_5_8</th>\n",
       "      <th>pay_6_-1</th>\n",
       "      <th>pay_6_0</th>\n",
       "      <th>pay_6_2</th>\n",
       "      <th>pay_6_3</th>\n",
       "      <th>pay_6_4</th>\n",
       "      <th>pay_6_5</th>\n",
       "      <th>pay_6_6</th>\n",
       "      <th>pay_6_7</th>\n",
       "      <th>pay_6_8</th>\n",
       "    </tr>\n",
       "  </thead>\n",
       "  <tbody>\n",
       "    <tr>\n",
       "      <th>0</th>\n",
       "      <td>0</td>\n",
       "      <td>1</td>\n",
       "      <td>20000.0</td>\n",
       "      <td>24</td>\n",
       "      <td>3913.0</td>\n",
       "      <td>3102.0</td>\n",
       "      <td>689.0</td>\n",
       "      <td>0.0</td>\n",
       "      <td>0.0</td>\n",
       "      <td>0.0</td>\n",
       "      <td>...</td>\n",
       "      <td>0</td>\n",
       "      <td>0</td>\n",
       "      <td>0</td>\n",
       "      <td>0</td>\n",
       "      <td>0</td>\n",
       "      <td>0</td>\n",
       "      <td>0</td>\n",
       "      <td>0</td>\n",
       "      <td>0</td>\n",
       "      <td>0</td>\n",
       "    </tr>\n",
       "    <tr>\n",
       "      <th>1</th>\n",
       "      <td>1</td>\n",
       "      <td>2</td>\n",
       "      <td>120000.0</td>\n",
       "      <td>26</td>\n",
       "      <td>2682.0</td>\n",
       "      <td>1725.0</td>\n",
       "      <td>2682.0</td>\n",
       "      <td>3272.0</td>\n",
       "      <td>3455.0</td>\n",
       "      <td>3261.0</td>\n",
       "      <td>...</td>\n",
       "      <td>0</td>\n",
       "      <td>0</td>\n",
       "      <td>0</td>\n",
       "      <td>1</td>\n",
       "      <td>0</td>\n",
       "      <td>0</td>\n",
       "      <td>0</td>\n",
       "      <td>0</td>\n",
       "      <td>0</td>\n",
       "      <td>0</td>\n",
       "    </tr>\n",
       "    <tr>\n",
       "      <th>2</th>\n",
       "      <td>2</td>\n",
       "      <td>3</td>\n",
       "      <td>90000.0</td>\n",
       "      <td>34</td>\n",
       "      <td>29239.0</td>\n",
       "      <td>14027.0</td>\n",
       "      <td>13559.0</td>\n",
       "      <td>14331.0</td>\n",
       "      <td>14948.0</td>\n",
       "      <td>15549.0</td>\n",
       "      <td>...</td>\n",
       "      <td>0</td>\n",
       "      <td>0</td>\n",
       "      <td>1</td>\n",
       "      <td>0</td>\n",
       "      <td>0</td>\n",
       "      <td>0</td>\n",
       "      <td>0</td>\n",
       "      <td>0</td>\n",
       "      <td>0</td>\n",
       "      <td>0</td>\n",
       "    </tr>\n",
       "    <tr>\n",
       "      <th>3</th>\n",
       "      <td>3</td>\n",
       "      <td>4</td>\n",
       "      <td>50000.0</td>\n",
       "      <td>37</td>\n",
       "      <td>46990.0</td>\n",
       "      <td>48233.0</td>\n",
       "      <td>49291.0</td>\n",
       "      <td>28314.0</td>\n",
       "      <td>28959.0</td>\n",
       "      <td>29547.0</td>\n",
       "      <td>...</td>\n",
       "      <td>0</td>\n",
       "      <td>0</td>\n",
       "      <td>1</td>\n",
       "      <td>0</td>\n",
       "      <td>0</td>\n",
       "      <td>0</td>\n",
       "      <td>0</td>\n",
       "      <td>0</td>\n",
       "      <td>0</td>\n",
       "      <td>0</td>\n",
       "    </tr>\n",
       "    <tr>\n",
       "      <th>4</th>\n",
       "      <td>4</td>\n",
       "      <td>5</td>\n",
       "      <td>50000.0</td>\n",
       "      <td>57</td>\n",
       "      <td>8617.0</td>\n",
       "      <td>5670.0</td>\n",
       "      <td>35835.0</td>\n",
       "      <td>20940.0</td>\n",
       "      <td>19146.0</td>\n",
       "      <td>19131.0</td>\n",
       "      <td>...</td>\n",
       "      <td>0</td>\n",
       "      <td>0</td>\n",
       "      <td>1</td>\n",
       "      <td>0</td>\n",
       "      <td>0</td>\n",
       "      <td>0</td>\n",
       "      <td>0</td>\n",
       "      <td>0</td>\n",
       "      <td>0</td>\n",
       "      <td>0</td>\n",
       "    </tr>\n",
       "  </tbody>\n",
       "</table>\n",
       "<p>5 rows × 85 columns</p>\n",
       "</div>"
      ],
      "text/plain": [
       "   Unnamed: 0  id  limit_bal  age  bill_amt1  bill_amt2  bill_amt3  bill_amt4  \\\n",
       "0           0   1    20000.0   24     3913.0     3102.0      689.0        0.0   \n",
       "1           1   2   120000.0   26     2682.0     1725.0     2682.0     3272.0   \n",
       "2           2   3    90000.0   34    29239.0    14027.0    13559.0    14331.0   \n",
       "3           3   4    50000.0   37    46990.0    48233.0    49291.0    28314.0   \n",
       "4           4   5    50000.0   57     8617.0     5670.0    35835.0    20940.0   \n",
       "\n",
       "   bill_amt5  bill_amt6  ...  pay_5_8  pay_6_-1  pay_6_0  pay_6_2  pay_6_3  \\\n",
       "0        0.0        0.0  ...        0         0        0        0        0   \n",
       "1     3455.0     3261.0  ...        0         0        0        1        0   \n",
       "2    14948.0    15549.0  ...        0         0        1        0        0   \n",
       "3    28959.0    29547.0  ...        0         0        1        0        0   \n",
       "4    19146.0    19131.0  ...        0         0        1        0        0   \n",
       "\n",
       "   pay_6_4  pay_6_5  pay_6_6  pay_6_7  pay_6_8  \n",
       "0        0        0        0        0        0  \n",
       "1        0        0        0        0        0  \n",
       "2        0        0        0        0        0  \n",
       "3        0        0        0        0        0  \n",
       "4        0        0        0        0        0  \n",
       "\n",
       "[5 rows x 85 columns]"
      ]
     },
     "execution_count": 164,
     "metadata": {},
     "output_type": "execute_result"
    }
   ],
   "source": [
    "data.head()"
   ]
  },
  {
   "cell_type": "markdown",
   "id": "96bc0c52",
   "metadata": {},
   "source": [
    "#### Feature selection"
   ]
  },
  {
   "cell_type": "code",
   "execution_count": 165,
   "id": "af53f6d1",
   "metadata": {},
   "outputs": [
    {
     "data": {
      "text/plain": [
       "Index(['Unnamed: 0', 'id', 'limit_bal', 'age', 'bill_amt1', 'bill_amt2',\n",
       "       'bill_amt3', 'bill_amt4', 'bill_amt5', 'bill_amt6', 'pay_amt1',\n",
       "       'pay_amt2', 'pay_amt3', 'pay_amt4', 'pay_amt5', 'pay_amt6',\n",
       "       'default_payment_next_month', 'female', 'education_1', 'education_2',\n",
       "       'education_3', 'education_4', 'education_5', 'education_6',\n",
       "       'marriage_1', 'marriage_2', 'marriage_3', 'pay_1_-1', 'pay_1_0',\n",
       "       'pay_1_1', 'pay_1_2', 'pay_1_3', 'pay_1_4', 'pay_1_5', 'pay_1_6',\n",
       "       'pay_1_7', 'pay_1_8', 'pay_2_-1', 'pay_2_0', 'pay_2_1', 'pay_2_2',\n",
       "       'pay_2_3', 'pay_2_4', 'pay_2_5', 'pay_2_6', 'pay_2_7', 'pay_2_8',\n",
       "       'pay_3_-1', 'pay_3_0', 'pay_3_1', 'pay_3_2', 'pay_3_3', 'pay_3_4',\n",
       "       'pay_3_5', 'pay_3_6', 'pay_3_7', 'pay_3_8', 'pay_4_-1', 'pay_4_0',\n",
       "       'pay_4_1', 'pay_4_2', 'pay_4_3', 'pay_4_4', 'pay_4_5', 'pay_4_6',\n",
       "       'pay_4_7', 'pay_4_8', 'pay_5_-1', 'pay_5_0', 'pay_5_2', 'pay_5_3',\n",
       "       'pay_5_4', 'pay_5_5', 'pay_5_6', 'pay_5_7', 'pay_5_8', 'pay_6_-1',\n",
       "       'pay_6_0', 'pay_6_2', 'pay_6_3', 'pay_6_4', 'pay_6_5', 'pay_6_6',\n",
       "       'pay_6_7', 'pay_6_8'],\n",
       "      dtype='object')"
      ]
     },
     "execution_count": 165,
     "metadata": {},
     "output_type": "execute_result"
    }
   ],
   "source": [
    "data.columns"
   ]
  },
  {
   "cell_type": "code",
   "execution_count": 166,
   "id": "a9378b55",
   "metadata": {},
   "outputs": [],
   "source": [
    "important_columns = ['pay_amt4', 'pay_amt5', 'pay_1_2', 'pay_1_3', 'pay_1_4','pay_2_2', 'pay_2_3', 'pay_3_3', 'pay_3_4', 'pay_3_7', 'pay_4_3','pay_4_4', 'pay_4_7', 'pay_5_2', 'pay_5_3', 'pay_5_4', 'pay_5_7','pay_6_3', 'pay_6_4', 'pay_6_7']"
   ]
  },
  {
   "cell_type": "code",
   "execution_count": 167,
   "id": "eb6a0e70",
   "metadata": {},
   "outputs": [
    {
     "data": {
      "text/plain": [
       "['pay_amt4',\n",
       " 'pay_amt5',\n",
       " 'pay_1_2',\n",
       " 'pay_1_3',\n",
       " 'pay_1_4',\n",
       " 'pay_2_2',\n",
       " 'pay_2_3',\n",
       " 'pay_3_3',\n",
       " 'pay_3_4',\n",
       " 'pay_3_7',\n",
       " 'pay_4_3',\n",
       " 'pay_4_4',\n",
       " 'pay_4_7',\n",
       " 'pay_5_2',\n",
       " 'pay_5_3',\n",
       " 'pay_5_4',\n",
       " 'pay_5_7',\n",
       " 'pay_6_3',\n",
       " 'pay_6_4',\n",
       " 'pay_6_7']"
      ]
     },
     "execution_count": 167,
     "metadata": {},
     "output_type": "execute_result"
    }
   ],
   "source": [
    "output = 'default_payment_next_month'\n",
    "\n",
    "cols = [f for f in data.columns if data.dtypes[ f ] != \"object\"]\n",
    "cols = [f for f in cols if f in important_columns]\n",
    "cols"
   ]
  },
  {
   "cell_type": "code",
   "execution_count": 168,
   "id": "4d7f8763",
   "metadata": {},
   "outputs": [],
   "source": [
    "features = cols"
   ]
  },
  {
   "cell_type": "code",
   "execution_count": 169,
   "id": "71dd47e2",
   "metadata": {},
   "outputs": [
    {
     "data": {
      "text/plain": [
       "default_payment_next_month\n",
       "0    23364\n",
       "1     6636\n",
       "dtype: int64"
      ]
     },
     "execution_count": 169,
     "metadata": {},
     "output_type": "execute_result"
    }
   ],
   "source": [
    "data.groupby(['default_payment_next_month']).size()"
   ]
  },
  {
   "cell_type": "markdown",
   "id": "3fd17da9",
   "metadata": {},
   "source": [
    "Identificamos que el dataset se encuentra desbalanceado, con una proporción alrededor de 80:20 en cuanto a 0s y 1s en la columna default_payment_next_month"
   ]
  },
  {
   "cell_type": "markdown",
   "id": "20659035",
   "metadata": {},
   "source": [
    "##### Data scaling"
   ]
  },
  {
   "cell_type": "code",
   "execution_count": 170,
   "id": "d28879f8",
   "metadata": {},
   "outputs": [],
   "source": [
    "from sklearn.preprocessing import StandardScaler\n",
    "from sklearn.model_selection import train_test_split\n",
    "\n",
    "from imblearn.over_sampling import RandomOverSampler"
   ]
  },
  {
   "cell_type": "code",
   "execution_count": 260,
   "id": "8c2a3724",
   "metadata": {},
   "outputs": [],
   "source": [
    "X = data[features].values    \n",
    "y = data[output].values\n",
    "\n",
    "X_train, X_test, y_train, y_test = train_test_split(X, y, test_size=0.2)\n",
    "\n",
    "scX = StandardScaler()\n",
    "X_train = scX.fit_transform(X_train)\n",
    "X_test = scX.transform(X_test)"
   ]
  },
  {
   "cell_type": "code",
   "execution_count": 263,
   "id": "c068cbcc",
   "metadata": {},
   "outputs": [],
   "source": [
    "over_sampler = RandomOverSampler(random_state=42)\n",
    "X_osample, y_osample = over_sampler.fit_resample(X_train, y_train)"
   ]
  },
  {
   "cell_type": "code",
   "execution_count": 264,
   "id": "ab7412c7",
   "metadata": {},
   "outputs": [
    {
     "name": "stdout",
     "output_type": "stream",
     "text": [
      "Training target statistics: Counter({1: 18728, 0: 18728})\n",
      "Testing target statistics: Counter({0: 4636, 1: 1364})\n"
     ]
    }
   ],
   "source": [
    "print(f\"Training target statistics: {Counter(y_res)}\")\n",
    "print(f\"Testing target statistics: {Counter(y_test)}\")"
   ]
  },
  {
   "cell_type": "markdown",
   "id": "e3715059",
   "metadata": {},
   "source": [
    "##### Imports for evaluation"
   ]
  },
  {
   "cell_type": "code",
   "execution_count": 141,
   "id": "95610781",
   "metadata": {},
   "outputs": [],
   "source": [
    "from sklearn.metrics import confusion_matrix, accuracy_score, classification_report, mean_squared_error, precision_recall_curve\n",
    "from scikitplot.metrics import plot_roc"
   ]
  },
  {
   "cell_type": "markdown",
   "id": "f71dae9d",
   "metadata": {},
   "source": [
    "### Logistic Regression Model"
   ]
  },
  {
   "cell_type": "code",
   "execution_count": 265,
   "id": "4b959107",
   "metadata": {},
   "outputs": [
    {
     "name": "stdout",
     "output_type": "stream",
     "text": [
      "Confusion matrix for Logistic Regression model\n",
      "[[4045  591]\n",
      " [ 663  701]]\n"
     ]
    }
   ],
   "source": [
    "from sklearn.linear_model import LogisticRegression, RidgeClassifier\n",
    "from statsmodels.stats.outliers_influence import variance_inflation_factor\n",
    "\n",
    "log_model = LogisticRegression(solver='liblinear', C=10)\n",
    "log_model.fit(X_osample, y_osample)\n",
    "\n",
    "log_preds = log_model.predict(X_test)\n",
    "\n",
    "log_cm = confusion_matrix(y_test, log_preds)\n",
    "print(\"Confusion matrix for Logistic Regression model\")\n",
    "print(log_cm)"
   ]
  },
  {
   "cell_type": "code",
   "execution_count": 266,
   "id": "ad6981bf",
   "metadata": {},
   "outputs": [
    {
     "name": "stdout",
     "output_type": "stream",
     "text": [
      "              precision    recall  f1-score   support\n",
      "\n",
      "           0       0.86      0.87      0.87      4636\n",
      "           1       0.54      0.51      0.53      1364\n",
      "\n",
      "    accuracy                           0.79      6000\n",
      "   macro avg       0.70      0.69      0.70      6000\n",
      "weighted avg       0.79      0.79      0.79      6000\n",
      "\n"
     ]
    }
   ],
   "source": [
    "print(classification_report(y_test, log_preds))"
   ]
  },
  {
   "cell_type": "code",
   "execution_count": 267,
   "id": "87cfba7a",
   "metadata": {},
   "outputs": [
    {
     "data": {
      "image/png": "[encoded data removed]",
      "text/plain": [
       "<Figure size 432x288 with 1 Axes>"
      ]
     },
     "metadata": {
      "needs_background": "light"
     },
     "output_type": "display_data"
    }
   ],
   "source": [
    "plot_roc(y_test, log_model.predict_proba(X_test))\n",
    "plt.show()"
   ]
  },
  {
   "cell_type": "code",
   "execution_count": 281,
   "id": "7efdef89",
   "metadata": {},
   "outputs": [],
   "source": [
    "log_precision, log_recall, _ = precision_recall_curve(y_test, log_model.predict_proba(X_test)[:, 1])"
   ]
  },
  {
   "cell_type": "code",
   "execution_count": 282,
   "id": "5ddf4c53",
   "metadata": {},
   "outputs": [
    {
     "data": {
      "image/png": "[encoded data removed]",
      "text/plain": [
       "<Figure size 432x288 with 1 Axes>"
      ]
     },
     "metadata": {
      "needs_background": "light"
     },
     "output_type": "display_data"
    }
   ],
   "source": [
    "plt.plot(log_recall, log_precision, marker='.', label='Logistic Regression')\n",
    "# axis labels\n",
    "plt.xlabel('Recall')\n",
    "plt.ylabel('Precision')\n",
    "# show the legend\n",
    "plt.legend()\n",
    "# show the plot\n",
    "plt.show()"
   ]
  },
  {
   "cell_type": "markdown",
   "id": "8d4a4bd3",
   "metadata": {},
   "source": [
    "### SVM Model"
   ]
  },
  {
   "cell_type": "code",
   "execution_count": 180,
   "id": "3da3e74f",
   "metadata": {},
   "outputs": [
    {
     "name": "stdout",
     "output_type": "stream",
     "text": [
      "Confusion matrix for SVM model\n",
      "[[4471  238]\n",
      " [ 833  458]]\n"
     ]
    }
   ],
   "source": [
    "from sklearn import svm\n",
    "from sklearn.metrics import accuracy_score, recall_score, precision_score\n",
    "\n",
    "svm_model = svm.SVC(\n",
    "    probability=True,\n",
    "    kernel=\"rbf\"\n",
    ")\n",
    "svm_model.fit(X_train, y_train)\n",
    "svm_preds = svm_model.predict(X_test)\n",
    "\n",
    "svm_cm = confusion_matrix(y_test, svm_preds)\n",
    "print(\"Confusion matrix for SVM model\")\n",
    "print(svm_cm)"
   ]
  },
  {
   "cell_type": "code",
   "execution_count": 181,
   "id": "12ad8153",
   "metadata": {},
   "outputs": [
    {
     "name": "stdout",
     "output_type": "stream",
     "text": [
      "              precision    recall  f1-score   support\n",
      "\n",
      "           0       0.84      0.95      0.89      4709\n",
      "           1       0.66      0.35      0.46      1291\n",
      "\n",
      "    accuracy                           0.82      6000\n",
      "   macro avg       0.75      0.65      0.68      6000\n",
      "weighted avg       0.80      0.82      0.80      6000\n",
      "\n"
     ]
    }
   ],
   "source": [
    "print(classification_report(y_test, svm_preds))"
   ]
  },
  {
   "cell_type": "code",
   "execution_count": 185,
   "id": "0ccd84f7",
   "metadata": {},
   "outputs": [
    {
     "data": {
      "image/png": "[encoded data removed]",
      "text/plain": [
       "<Figure size 432x288 with 1 Axes>"
      ]
     },
     "metadata": {
      "needs_background": "light"
     },
     "output_type": "display_data"
    }
   ],
   "source": [
    "plot_roc(y_test, svm_model.predict_proba(X_test))\n",
    "plt.show()"
   ]
  },
  {
   "cell_type": "code",
   "execution_count": 256,
   "id": "2547fc09",
   "metadata": {},
   "outputs": [],
   "source": [
    "svm_precision, svm_recall, _ = precision_recall_curve(y_test, svm_model.predict_proba(X_test)[:, 1])"
   ]
  },
  {
   "cell_type": "code",
   "execution_count": 257,
   "id": "9ce0d03b",
   "metadata": {},
   "outputs": [
    {
     "data": {
      "image/png": "[encoded data removed]",
      "text/plain": [
       "<Figure size 432x288 with 1 Axes>"
      ]
     },
     "metadata": {
      "needs_background": "light"
     },
     "output_type": "display_data"
    }
   ],
   "source": [
    "plt.plot(svm_recall, svm_precision, marker='.', label='SVM')\n",
    "# axis labels\n",
    "plt.xlabel('Recall')\n",
    "plt.ylabel('Precision')\n",
    "# show the legend\n",
    "plt.legend()\n",
    "# show the plot\n",
    "plt.show()"
   ]
  },
  {
   "cell_type": "markdown",
   "id": "ca9965e2",
   "metadata": {},
   "source": [
    "### Random Forest Model"
   ]
  },
  {
   "cell_type": "code",
   "execution_count": 274,
   "id": "27f2d8b0",
   "metadata": {},
   "outputs": [
    {
     "name": "stdout",
     "output_type": "stream",
     "text": [
      "Confusion matrix for Random Forest model\n",
      "[[3865  771]\n",
      " [ 758  606]]\n"
     ]
    }
   ],
   "source": [
    "from sklearn.ensemble import RandomForestClassifier\n",
    "\n",
    "rf_model = RandomForestClassifier(random_state=0)\n",
    "rf_model.fit(X_osample, y_osample)\n",
    "\n",
    "rf_preds = rf_model.predict(X_test)\n",
    "\n",
    "rf_cm = confusion_matrix(y_test, rf_preds)\n",
    "print(\"Confusion matrix for Random Forest model\")\n",
    "print(rf_cm)"
   ]
  },
  {
   "cell_type": "code",
   "execution_count": 275,
   "id": "33d2008a",
   "metadata": {},
   "outputs": [
    {
     "name": "stdout",
     "output_type": "stream",
     "text": [
      "              precision    recall  f1-score   support\n",
      "\n",
      "           0       0.84      0.83      0.83      4636\n",
      "           1       0.44      0.44      0.44      1364\n",
      "\n",
      "    accuracy                           0.75      6000\n",
      "   macro avg       0.64      0.64      0.64      6000\n",
      "weighted avg       0.75      0.75      0.75      6000\n",
      "\n"
     ]
    }
   ],
   "source": [
    "print(classification_report(y_test, rf_preds))"
   ]
  },
  {
   "cell_type": "code",
   "execution_count": 298,
   "id": "f8f7353a",
   "metadata": {},
   "outputs": [
    {
     "data": {
      "image/png": "[encoded data removed]",
      "text/plain": [
       "<Figure size 432x288 with 1 Axes>"
      ]
     },
     "metadata": {
      "needs_background": "light"
     },
     "output_type": "display_data"
    }
   ],
   "source": [
    "plot_roc(y_test, rf_model.predict_proba(X_test))\n",
    "plt.show()"
   ]
  },
  {
   "cell_type": "code",
   "execution_count": 277,
   "id": "df6c6c7a",
   "metadata": {},
   "outputs": [],
   "source": [
    "rf_precision, rf_recall, _ = precision_recall_curve(y_test, rf_model.predict_proba(X_test)[:, 1])"
   ]
  },
  {
   "cell_type": "code",
   "execution_count": 280,
   "id": "8791ed3f",
   "metadata": {},
   "outputs": [
    {
     "data": {
      "image/png": "[encoded data removed]",
      "text/plain": [
       "<Figure size 432x288 with 1 Axes>"
      ]
     },
     "metadata": {
      "needs_background": "light"
     },
     "output_type": "display_data"
    }
   ],
   "source": [
    "plt.plot(rf_recall, rf_precision, marker='.', label='Random Forest')\n",
    "# axis labels\n",
    "plt.xlabel('Recall')\n",
    "plt.ylabel('Precision')\n",
    "# show the legend\n",
    "plt.legend()\n",
    "# show the plot\n",
    "plt.show()"
   ]
  },
  {
   "cell_type": "markdown",
   "id": "49263906",
   "metadata": {},
   "source": [
    "### XGBoost"
   ]
  },
  {
   "cell_type": "code",
   "execution_count": 150,
   "id": "5b95f2fb",
   "metadata": {},
   "outputs": [],
   "source": [
    "import xgboost as xgb\n",
    "from sklearn.metrics import mean_squared_error"
   ]
  },
  {
   "cell_type": "code",
   "execution_count": 283,
   "id": "f615ffef",
   "metadata": {},
   "outputs": [],
   "source": [
    "dtrain = xgb.DMatrix(X_train, label=y_train)\n",
    "dtest = xgb.DMatrix(X_test, label=y_test)\n",
    "dosample = xgb.DMatrix(X_res, label=y_res)"
   ]
  },
  {
   "cell_type": "markdown",
   "id": "bbb19da4",
   "metadata": {},
   "source": [
    "#### Optimización de hiperparámetros"
   ]
  },
  {
   "cell_type": "code",
   "execution_count": 99,
   "id": "328201c0",
   "metadata": {},
   "outputs": [],
   "source": [
    "params = {\n",
    "    # Parameters that we are going to tune.\n",
    "    'max_depth':6,\n",
    "    'min_child_weight': 1,\n",
    "    'eta':.3,\n",
    "    'subsample': 1,\n",
    "    'colsample_bytree': 1,\n",
    "    # Other parameters\n",
    "    'objective':'binary:logistic',\n",
    "    'eval_metric':'auc'\n",
    "}\n",
    "\n",
    "num_boost_round = 999"
   ]
  },
  {
   "cell_type": "code",
   "execution_count": 101,
   "id": "1ef03308",
   "metadata": {},
   "outputs": [],
   "source": [
    "gridsearch_params = [\n",
    "    (max_depth, min_child_weight)\n",
    "    for max_depth in range(9,12)\n",
    "    for min_child_weight in range(5,8)\n",
    "]"
   ]
  },
  {
   "cell_type": "code",
   "execution_count": 102,
   "id": "f211b382",
   "metadata": {},
   "outputs": [
    {
     "name": "stdout",
     "output_type": "stream",
     "text": [
      "CV with max_depth=9, min_child_weight=5\n",
      "\tAUC 0.9635672 for 786 rounds\n",
      "CV with max_depth=9, min_child_weight=6\n",
      "\tAUC 0.963214 for 905 rounds\n",
      "CV with max_depth=9, min_child_weight=7\n",
      "\tAUC 0.9626250000000001 for 893 rounds\n",
      "CV with max_depth=10, min_child_weight=5\n",
      "\tAUC 0.9648884000000001 for 687 rounds\n",
      "CV with max_depth=10, min_child_weight=6\n",
      "\tAUC 0.9624068000000001 for 530 rounds\n",
      "CV with max_depth=10, min_child_weight=7\n",
      "\tAUC 0.9636588000000001 for 996 rounds\n",
      "CV with max_depth=11, min_child_weight=5\n",
      "\tAUC 0.9652711999999999 for 594 rounds\n",
      "CV with max_depth=11, min_child_weight=6\n",
      "\tAUC 0.9638388000000001 for 528 rounds\n",
      "CV with max_depth=11, min_child_weight=7\n",
      "\tAUC 0.964434 for 865 rounds\n",
      "Best params: 11, 5, AUC: 0.9652711999999999\n"
     ]
    }
   ],
   "source": [
    "max_auc = float(0)\n",
    "best_params = None\n",
    "\n",
    "for max_depth, min_child_weight in gridsearch_params:\n",
    "    print(\"CV with max_depth={}, min_child_weight={}\".format(max_depth, min_child_weight))\n",
    "    \n",
    "    params['max_depth'] = max_depth\n",
    "    params['min_child_weight'] = min_child_weight\n",
    "    \n",
    "    cv_results = xgb.cv(\n",
    "        params,\n",
    "        dosample,\n",
    "        num_boost_round=num_boost_round,\n",
    "        seed=42,\n",
    "        nfold=5,\n",
    "        metrics={'auc'},\n",
    "        early_stopping_rounds=10\n",
    "    )\n",
    "    \n",
    "    mean_auc = cv_results['test-auc-mean'].max()\n",
    "    boost_rounds = cv_results['test-auc-mean'].argmax()\n",
    "    print(\"\\tAUC {} for {} rounds\".format(mean_auc, boost_rounds))\n",
    "    if mean_auc > max_auc:\n",
    "        max_auc = mean_auc\n",
    "        best_params = (max_depth,min_child_weight)\n",
    "    \n",
    "print(\"Best params: {}, {}, AUC: {}\".format(best_params[0], best_params[1], max_auc))"
   ]
  },
  {
   "cell_type": "code",
   "execution_count": 103,
   "id": "17df4dea",
   "metadata": {},
   "outputs": [],
   "source": [
    "#actualizamos parámetros\n",
    "params['max_depth'] = 11\n",
    "params['min_child_weight'] = 5"
   ]
  },
  {
   "cell_type": "code",
   "execution_count": 113,
   "id": "55d05db7",
   "metadata": {},
   "outputs": [],
   "source": [
    "gridsearch_params = [\n",
    "    (subsample, colsample)\n",
    "    for subsample in [i/10. for i in range(7,11)]\n",
    "    for colsample in [i/10. for i in range(7,11)]\n",
    "]"
   ]
  },
  {
   "cell_type": "code",
   "execution_count": 114,
   "id": "0d17bad3",
   "metadata": {},
   "outputs": [
    {
     "name": "stdout",
     "output_type": "stream",
     "text": [
      "CV with subsample=1.0, colsample=1.0\n",
      "\tAUC 0.7745536000000001 for 66 rounds\n",
      "CV with subsample=1.0, colsample=0.9\n",
      "\tAUC 0.7740854 for 73 rounds\n",
      "CV with subsample=1.0, colsample=0.8\n",
      "\tAUC 0.7724092 for 31 rounds\n",
      "CV with subsample=1.0, colsample=0.7\n",
      "\tAUC 0.7750418000000001 for 74 rounds\n",
      "CV with subsample=0.9, colsample=1.0\n",
      "\tAUC 0.7734806 for 58 rounds\n",
      "CV with subsample=0.9, colsample=0.9\n",
      "\tAUC 0.7751036 for 70 rounds\n",
      "CV with subsample=0.9, colsample=0.8\n",
      "\tAUC 0.7746894000000001 for 48 rounds\n",
      "CV with subsample=0.9, colsample=0.7\n",
      "\tAUC 0.7758394 for 71 rounds\n",
      "CV with subsample=0.8, colsample=1.0\n",
      "\tAUC 0.7736294000000001 for 61 rounds\n",
      "CV with subsample=0.8, colsample=0.9\n",
      "\tAUC 0.7744826 for 62 rounds\n",
      "CV with subsample=0.8, colsample=0.8\n",
      "\tAUC 0.7741372 for 69 rounds\n",
      "CV with subsample=0.8, colsample=0.7\n",
      "\tAUC 0.7748345999999999 for 60 rounds\n",
      "CV with subsample=0.7, colsample=1.0\n",
      "\tAUC 0.7744346 for 58 rounds\n",
      "CV with subsample=0.7, colsample=0.9\n",
      "\tAUC 0.7737102 for 70 rounds\n",
      "CV with subsample=0.7, colsample=0.8\n",
      "\tAUC 0.7756168 for 51 rounds\n",
      "CV with subsample=0.7, colsample=0.7\n",
      "\tAUC 0.7755498000000001 for 61 rounds\n",
      "Best params: 0.9, 0.7, AUC: 0.7758394\n"
     ]
    }
   ],
   "source": [
    "max_auc = float(0)\n",
    "best_params = None\n",
    "\n",
    "for subsample, colsample in reversed(gridsearch_params):\n",
    "    print(\"CV with subsample={}, colsample={}\".format(subsample, colsample))\n",
    "    \n",
    "    params['subsample'] = subsample\n",
    "    params['colsample_bytree'] = colsample\n",
    "    \n",
    "    cv_results = xgb.cv(\n",
    "        params,\n",
    "        dtrain,\n",
    "        num_boost_round=num_boost_round,\n",
    "        seed=42,\n",
    "        nfold=5,\n",
    "        metrics={'auc'},\n",
    "        early_stopping_rounds=10\n",
    "    )\n",
    "    \n",
    "    mean_auc = cv_results['test-auc-mean'].max()\n",
    "    boost_rounds = cv_results['test-auc-mean'].argmax()\n",
    "    \n",
    "    print(\"\\tAUC {} for {} rounds\".format(mean_auc, boost_rounds))\n",
    "    if mean_auc > max_auc:\n",
    "        max_auc = mean_auc\n",
    "        best_params = (subsample,colsample)\n",
    "\n",
    "print(\"Best params: {}, {}, AUC: {}\".format(best_params[0], best_params[1], max_auc))"
   ]
  },
  {
   "cell_type": "code",
   "execution_count": 115,
   "id": "98dc550b",
   "metadata": {},
   "outputs": [],
   "source": [
    "# actualizamos parámetros\n",
    "params['subsample'] = 0.9\n",
    "params['colsample_bytree'] = 0.7"
   ]
  },
  {
   "cell_type": "code",
   "execution_count": 116,
   "id": "6369a866",
   "metadata": {},
   "outputs": [
    {
     "name": "stdout",
     "output_type": "stream",
     "text": [
      "Wall time: 0 ns\n",
      "CV with eta=0.05\n",
      "Wall time: 11.9 s\n",
      "\tAUC 0.7758394 for 71 rounds\n",
      "CV with eta=0.1\n",
      "Wall time: 8.04 s\n",
      "\tAUC 0.7735169999999999 for 41 rounds\n",
      "CV with eta=0.2\n",
      "Wall time: 5.35 s\n",
      "\tAUC 0.7682420000000001 for 20 rounds\n",
      "CV with eta=0.3\n",
      "Wall time: 3.65 s\n",
      "\tAUC 0.7640364 for 8 rounds\n",
      "Best param: 0.05, AUC: 0.7758394\n"
     ]
    }
   ],
   "source": [
    "%time\n",
    "\n",
    "max_auc = float(0)\n",
    "best_params = None\n",
    "\n",
    "for eta in [0.05, 0.1, 0.2, 0.3]:\n",
    "    print(\"CV with eta={}\".format(eta))\n",
    "    \n",
    "    params['eta'] = eta\n",
    "    %time cv_results = xgb.cv(params,dtrain,num_boost_round=num_boost_round,seed=42,nfold=5,metrics=['auc'],early_stopping_rounds=10)\n",
    "    \n",
    "    mean_auc = cv_results['test-auc-mean'].max()\n",
    "    boost_rounds = cv_results['test-auc-mean'].argmax()\n",
    "    \n",
    "    print(\"\\tAUC {} for {} rounds\".format(mean_auc, boost_rounds))\n",
    "    if mean_auc > max_auc:\n",
    "        max_auc = mean_auc\n",
    "        best_param = eta\n",
    "\n",
    "print(\"Best param: {}, AUC: {}\".format(best_param, max_auc))"
   ]
  },
  {
   "cell_type": "code",
   "execution_count": 117,
   "id": "a3ed85c6",
   "metadata": {},
   "outputs": [],
   "source": [
    "params['eta'] = 0.05"
   ]
  },
  {
   "cell_type": "code",
   "execution_count": 284,
   "id": "0a578d4d",
   "metadata": {},
   "outputs": [
    {
     "data": {
      "text/plain": [
       "{'max_depth': 11,\n",
       " 'min_child_weight': 5,\n",
       " 'eta': 0.05,\n",
       " 'subsample': 0.9,\n",
       " 'colsample_bytree': 0.7,\n",
       " 'objective': 'binary:logistic',\n",
       " 'eval_metric': 'auc'}"
      ]
     },
     "execution_count": 284,
     "metadata": {},
     "output_type": "execute_result"
    }
   ],
   "source": [
    "params"
   ]
  },
  {
   "cell_type": "markdown",
   "id": "dd6cea9b",
   "metadata": {},
   "source": [
    "#### Training y testing"
   ]
  },
  {
   "cell_type": "code",
   "execution_count": 287,
   "id": "db3d6dc7",
   "metadata": {},
   "outputs": [
    {
     "name": "stdout",
     "output_type": "stream",
     "text": [
      "[0]\tTest-auc:0.69406\n",
      "[1]\tTest-auc:0.72059\n",
      "[2]\tTest-auc:0.72546\n",
      "[3]\tTest-auc:0.74213\n",
      "[4]\tTest-auc:0.73881\n",
      "[5]\tTest-auc:0.74276\n",
      "[6]\tTest-auc:0.74520\n",
      "[7]\tTest-auc:0.74540\n",
      "[8]\tTest-auc:0.74616\n",
      "[9]\tTest-auc:0.74735\n",
      "[10]\tTest-auc:0.74751\n",
      "[11]\tTest-auc:0.74747\n",
      "[12]\tTest-auc:0.74858\n",
      "[13]\tTest-auc:0.74875\n",
      "[14]\tTest-auc:0.74904\n",
      "[15]\tTest-auc:0.74876\n",
      "[16]\tTest-auc:0.74890\n",
      "[17]\tTest-auc:0.74879\n",
      "[18]\tTest-auc:0.74881\n",
      "[19]\tTest-auc:0.74954\n",
      "[20]\tTest-auc:0.75003\n",
      "[21]\tTest-auc:0.75000\n",
      "[22]\tTest-auc:0.74968\n",
      "[23]\tTest-auc:0.74938\n",
      "[24]\tTest-auc:0.74943\n",
      "[25]\tTest-auc:0.74952\n",
      "[26]\tTest-auc:0.74954\n",
      "[27]\tTest-auc:0.74917\n",
      "[28]\tTest-auc:0.74965\n",
      "[29]\tTest-auc:0.74972\n",
      "[30]\tTest-auc:0.74991\n",
      "Confusion matrix for XGBoost model\n",
      "[[4021  615]\n",
      " [ 673  691]]\n"
     ]
    }
   ],
   "source": [
    "xgb_model = xgb.train(\n",
    "    params,\n",
    "    dosample,\n",
    "    num_boost_round=num_boost_round,\n",
    "    evals=[(dtest, \"Test\")],\n",
    "    early_stopping_rounds=10\n",
    ")\n",
    "\n",
    "xgb_preds = xgb_model.predict(dtest)\n",
    "\n",
    "binary_preds = [0 if x < 0.5 else 1 for x in xgb_preds]\n",
    "\n",
    "xgb_cm = confusion_matrix(y_test, binary_preds)\n",
    "print(\"Confusion matrix for XGBoost model\")\n",
    "print(xgb_cm)"
   ]
  },
  {
   "cell_type": "markdown",
   "id": "22995d3e",
   "metadata": {},
   "source": [
    "#### Evaluación"
   ]
  },
  {
   "cell_type": "code",
   "execution_count": 288,
   "id": "37c8246b",
   "metadata": {},
   "outputs": [
    {
     "name": "stdout",
     "output_type": "stream",
     "text": [
      "              precision    recall  f1-score   support\n",
      "\n",
      "           0       0.86      0.87      0.86      4636\n",
      "           1       0.53      0.51      0.52      1364\n",
      "\n",
      "    accuracy                           0.79      6000\n",
      "   macro avg       0.69      0.69      0.69      6000\n",
      "weighted avg       0.78      0.79      0.78      6000\n",
      "\n"
     ]
    }
   ],
   "source": [
    "print(classification_report(y_test, binary_preds))"
   ]
  },
  {
   "cell_type": "code",
   "execution_count": 289,
   "id": "abbc957b",
   "metadata": {},
   "outputs": [
    {
     "data": {
      "image/png": "[encoded data removed]",
      "text/plain": [
       "<Figure size 432x288 with 1 Axes>"
      ]
     },
     "metadata": {
      "needs_background": "light"
     },
     "output_type": "display_data"
    }
   ],
   "source": [
    "plot_roc(y_test, [[1.0 - f, f] for f in xgb_preds])\n",
    "plt.show()"
   ]
  },
  {
   "cell_type": "code",
   "execution_count": 290,
   "id": "bdaa9f45",
   "metadata": {},
   "outputs": [],
   "source": [
    "xgb_precision, xgb_recall, _ = precision_recall_curve(y_test, xgb_preds)"
   ]
  },
  {
   "cell_type": "code",
   "execution_count": 291,
   "id": "329423b9",
   "metadata": {},
   "outputs": [
    {
     "data": {
      "image/png": "[encoded data removed]",
      "text/plain": [
       "<Figure size 432x288 with 1 Axes>"
      ]
     },
     "metadata": {
      "needs_background": "light"
     },
     "output_type": "display_data"
    }
   ],
   "source": [
    "plt.plot(xgb_recall, xgb_precision, marker='.', label='XGBoost')\n",
    "# axis labels\n",
    "plt.xlabel('Recall')\n",
    "plt.ylabel('Precision')\n",
    "# show the legend\n",
    "plt.legend()\n",
    "# show the plot\n",
    "plt.show()"
   ]
  },
  {
   "cell_type": "markdown",
   "id": "0bc100be",
   "metadata": {},
   "source": [
    "### Visualización de resultados"
   ]
  },
  {
   "cell_type": "code",
   "execution_count": 311,
   "id": "72a6298b",
   "metadata": {},
   "outputs": [],
   "source": [
    "cms = {\n",
    "    'LR': log_cm,\n",
    "    'SVM': svm_cm,\n",
    "    'RF': rf_cm,\n",
    "    'XGB': xgb_cm\n",
    "}\n",
    "models = [key for key in cms.keys()]\n",
    "\n",
    "pres_rec = pd.DataFrame(columns=('model', 'precision', 'recall', 'class'))\n",
    "\n",
    "j = 4\n",
    "for i in range(len(models)):\n",
    "    cm = cms[models[i]]\n",
    "    pres_rec.loc[i] = [\n",
    "        models[i], \n",
    "        cm[0][0]/(cm[0][0]+cm[1][0]), \n",
    "        cm[0][0]/(cm[0][0]+cm[0][1]),\n",
    "        0\n",
    "    ]\n",
    "    pres_rec.loc[j] = [\n",
    "        models[i],\n",
    "        cm[1][1]/(cm[1][1]+cm[0][1]),\n",
    "        cm[1][1]/(cm[1][1]+cm[1][0]),\n",
    "        1\n",
    "    ]\n",
    "    j += 1"
   ]
  },
  {
   "cell_type": "code",
   "execution_count": 312,
   "id": "6608a906",
   "metadata": {},
   "outputs": [
    {
     "data": {
      "text/html": [
       "<div>\n",
       "<style scoped>\n",
       "    .dataframe tbody tr th:only-of-type {\n",
       "        vertical-align: middle;\n",
       "    }\n",
       "\n",
       "    .dataframe tbody tr th {\n",
       "        vertical-align: top;\n",
       "    }\n",
       "\n",
       "    .dataframe thead th {\n",
       "        text-align: right;\n",
       "    }\n",
       "</style>\n",
       "<table border=\"1\" class=\"dataframe\">\n",
       "  <thead>\n",
       "    <tr style=\"text-align: right;\">\n",
       "      <th></th>\n",
       "      <th>model</th>\n",
       "      <th>precision</th>\n",
       "      <th>recall</th>\n",
       "      <th>class</th>\n",
       "    </tr>\n",
       "  </thead>\n",
       "  <tbody>\n",
       "    <tr>\n",
       "      <th>0</th>\n",
       "      <td>LR</td>\n",
       "      <td>0.859176</td>\n",
       "      <td>0.872519</td>\n",
       "      <td>0</td>\n",
       "    </tr>\n",
       "    <tr>\n",
       "      <th>4</th>\n",
       "      <td>LR</td>\n",
       "      <td>0.542570</td>\n",
       "      <td>0.513930</td>\n",
       "      <td>1</td>\n",
       "    </tr>\n",
       "    <tr>\n",
       "      <th>1</th>\n",
       "      <td>SVM</td>\n",
       "      <td>0.842949</td>\n",
       "      <td>0.949458</td>\n",
       "      <td>0</td>\n",
       "    </tr>\n",
       "    <tr>\n",
       "      <th>5</th>\n",
       "      <td>SVM</td>\n",
       "      <td>0.658046</td>\n",
       "      <td>0.354764</td>\n",
       "      <td>1</td>\n",
       "    </tr>\n",
       "    <tr>\n",
       "      <th>2</th>\n",
       "      <td>RF</td>\n",
       "      <td>0.836037</td>\n",
       "      <td>0.833693</td>\n",
       "      <td>0</td>\n",
       "    </tr>\n",
       "    <tr>\n",
       "      <th>6</th>\n",
       "      <td>RF</td>\n",
       "      <td>0.440087</td>\n",
       "      <td>0.444282</td>\n",
       "      <td>1</td>\n",
       "    </tr>\n",
       "    <tr>\n",
       "      <th>3</th>\n",
       "      <td>XGB</td>\n",
       "      <td>0.856625</td>\n",
       "      <td>0.867343</td>\n",
       "      <td>0</td>\n",
       "    </tr>\n",
       "    <tr>\n",
       "      <th>7</th>\n",
       "      <td>XGB</td>\n",
       "      <td>0.529096</td>\n",
       "      <td>0.506598</td>\n",
       "      <td>1</td>\n",
       "    </tr>\n",
       "  </tbody>\n",
       "</table>\n",
       "</div>"
      ],
      "text/plain": [
       "  model  precision    recall class\n",
       "0    LR   0.859176  0.872519     0\n",
       "4    LR   0.542570  0.513930     1\n",
       "1   SVM   0.842949  0.949458     0\n",
       "5   SVM   0.658046  0.354764     1\n",
       "2    RF   0.836037  0.833693     0\n",
       "6    RF   0.440087  0.444282     1\n",
       "3   XGB   0.856625  0.867343     0\n",
       "7   XGB   0.529096  0.506598     1"
      ]
     },
     "execution_count": 312,
     "metadata": {},
     "output_type": "execute_result"
    }
   ],
   "source": [
    "pres_rec"
   ]
  },
  {
   "cell_type": "code",
   "execution_count": 323,
   "id": "3bcbdad6",
   "metadata": {
    "scrolled": false
   },
   "outputs": [
    {
     "data": {
      "image/png": "[encoded data removed]",
      "text/plain": [
       "<Figure size 864x576 with 1 Axes>"
      ]
     },
     "metadata": {},
     "output_type": "display_data"
    }
   ],
   "source": [
    "plt.figure(figsize=(12,8))\n",
    "\n",
    "sns.set(style='darkgrid')\n",
    "sns.scatterplot(data=pres_rec, x='recall', y='precision', hue='class', style='class',palette='hot')\n",
    "\n",
    "plt.title(f\"Oversampled Data Precision vs Recall\")\n",
    "\n",
    "plt.xlabel('RECALL')\n",
    "plt.ylabel('PRECISION')\n",
    "          \n",
    "for i in range(pres_rec.shape[0]):\n",
    "    plt.text(pres_rec.recall[i], y=pres_rec.precision[i], s=pres_rec.model[i], alpha=0.8)\n",
    "\n",
    "plt.axhline(y=0.5, color='white', linestyle='--', linewidth=2)\n",
    "plt.axvline(x=0.5, color='white',linestyle='--', linewidth=2)\n",
    "\n",
    "plt.text(x=0.75, y=0.9, s=\"Q1\",alpha=0.7,fontsize=14, color='b')\n",
    "plt.text(x=0.25, y=0.9, s=\"Q2\",alpha=0.7,fontsize=14, color='b')\n",
    "plt.text(x=0.75, y=0.4, s=\"Q3\", alpha=0.7,fontsize=14, color='b')\n",
    "plt.text(x=0.25, y=0.4, s=\"Q4\", alpha=0.7,fontsize=14, color='b')\n",
    "\n",
    "plt.xticks(np.arange(0, 1.25, 0.25))\n",
    "plt.yticks(np.arange(0, 1.25, 0.25))\n",
    "\n",
    "plt.gca().axes.yaxis.set_ticks([])\n",
    "plt.gca().axes.xaxis.set_ticks([])\n",
    "\n",
    "plt.show()"
   ]
  },
  {
   "cell_type": "markdown",
   "id": "e9d53e84",
   "metadata": {},
   "source": [
    "La gráfica muestra el balance entre la precision y recall de cada modelo, para cada una de las clases (0: no cae en default, 1: sí cae).\n",
    "\n",
    "* El Q1, se refiere a los modelos con mejor funcionamiento en su respectiva clase.\n",
    "* Q2 significa que el modelo no detecta muy bien la clase, pero cuando lo hace es confiable.\n",
    "* Q3, la clase se detecta bien, pero incluye también datos pertenecientes a la otra clase\n",
    "* Q4, la clase no se maneja correctamente"
   ]
  }
 ],
 "metadata": {
  "kernelspec": {
   "display_name": "Python 3 (ipykernel)",
   "language": "python",
   "name": "python3"
  },
  "language_info": {
   "codemirror_mode": {
    "name": "ipython",
    "version": 3
   },
   "file_extension": ".py",
   "mimetype": "text/x-python",
   "name": "python",
   "nbconvert_exporter": "python",
   "pygments_lexer": "ipython3",
   "version": "3.8.10"
  }
 },
 "nbformat": 4,
 "nbformat_minor": 5
}
