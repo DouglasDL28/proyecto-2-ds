{
 "cells": [
  {
   "cell_type": "code",
   "execution_count": 1,
   "id": "30bfe99d",
   "metadata": {},
   "outputs": [
    {
     "name": "stderr",
     "output_type": "stream",
     "text": [
      "/Users/douglasdeleon/Documents/DouglasJr/UVG/semestre8/DS/proyecto-2-ds/venv/lib/python3.7/site-packages/dash_bootstrap_components/_table.py:5: UserWarning: \n",
      "The dash_html_components package is deprecated. Please replace\n",
      "`import dash_html_components as html` with `from dash import html`\n",
      "  import dash_html_components as html\n",
      "/Users/douglasdeleon/Documents/DouglasJr/UVG/semestre8/DS/proyecto-2-ds/venv/lib/python3.7/site-packages/autoplotter/app.py:3: UserWarning: \n",
      "The dash_core_components package is deprecated. Please replace\n",
      "`import dash_core_components as dcc` with `from dash import dcc`\n",
      "  import dash_core_components as dcc\n",
      "/Users/douglasdeleon/Documents/DouglasJr/UVG/semestre8/DS/proyecto-2-ds/venv/lib/python3.7/site-packages/autoplotter/homepage.py:1: UserWarning: \n",
      "The dash_table package is deprecated. Please replace\n",
      "`import dash_table` with `from dash import dash_table`\n",
      "\n",
      "Also, if you're using any of the table format helpers (e.g. Group), replace \n",
      "`from dash_table.Format import Group` with \n",
      "`from dash.dash_table.Format import Group`\n",
      "  import dash_table as dt\n"
     ]
    }
   ],
   "source": [
    "import pickle\n",
    "import numpy as np\n",
    "import pandas as pd\n",
    "\n",
    "from collections import Counter\n",
    "from autoplotter import run_app\n",
    "\n",
    "import seaborn as sns\n",
    "import matplotlib.pyplot as plt\n",
    "%matplotlib inline"
   ]
  },
  {
   "cell_type": "code",
   "execution_count": 2,
   "id": "b6af2479",
   "metadata": {},
   "outputs": [],
   "source": [
    "data = pd.read_csv(\"./data/clean_data.csv\")"
   ]
  },
  {
   "cell_type": "code",
   "execution_count": 3,
   "id": "e2e28ef1",
   "metadata": {},
   "outputs": [],
   "source": [
    "data.drop([\"Unnamed: 0\", \"id\"], axis=1, inplace=True)"
   ]
  },
  {
   "cell_type": "code",
   "execution_count": 4,
   "id": "8d694c79",
   "metadata": {},
   "outputs": [
    {
     "data": {
      "text/html": [
       "<div>\n",
       "<style scoped>\n",
       "    .dataframe tbody tr th:only-of-type {\n",
       "        vertical-align: middle;\n",
       "    }\n",
       "\n",
       "    .dataframe tbody tr th {\n",
       "        vertical-align: top;\n",
       "    }\n",
       "\n",
       "    .dataframe thead th {\n",
       "        text-align: right;\n",
       "    }\n",
       "</style>\n",
       "<table border=\"1\" class=\"dataframe\">\n",
       "  <thead>\n",
       "    <tr style=\"text-align: right;\">\n",
       "      <th></th>\n",
       "      <th>limit_bal</th>\n",
       "      <th>age</th>\n",
       "      <th>bill_amt1</th>\n",
       "      <th>bill_amt2</th>\n",
       "      <th>bill_amt3</th>\n",
       "      <th>bill_amt4</th>\n",
       "      <th>bill_amt5</th>\n",
       "      <th>bill_amt6</th>\n",
       "      <th>pay_amt1</th>\n",
       "      <th>pay_amt2</th>\n",
       "      <th>...</th>\n",
       "      <th>pay_5_8</th>\n",
       "      <th>pay_6_-1</th>\n",
       "      <th>pay_6_0</th>\n",
       "      <th>pay_6_2</th>\n",
       "      <th>pay_6_3</th>\n",
       "      <th>pay_6_4</th>\n",
       "      <th>pay_6_5</th>\n",
       "      <th>pay_6_6</th>\n",
       "      <th>pay_6_7</th>\n",
       "      <th>pay_6_8</th>\n",
       "    </tr>\n",
       "  </thead>\n",
       "  <tbody>\n",
       "    <tr>\n",
       "      <th>0</th>\n",
       "      <td>20000.0</td>\n",
       "      <td>24</td>\n",
       "      <td>3913.0</td>\n",
       "      <td>3102.0</td>\n",
       "      <td>689.0</td>\n",
       "      <td>0.0</td>\n",
       "      <td>0.0</td>\n",
       "      <td>0.0</td>\n",
       "      <td>0.0</td>\n",
       "      <td>689.0</td>\n",
       "      <td>...</td>\n",
       "      <td>0</td>\n",
       "      <td>0</td>\n",
       "      <td>0</td>\n",
       "      <td>0</td>\n",
       "      <td>0</td>\n",
       "      <td>0</td>\n",
       "      <td>0</td>\n",
       "      <td>0</td>\n",
       "      <td>0</td>\n",
       "      <td>0</td>\n",
       "    </tr>\n",
       "    <tr>\n",
       "      <th>1</th>\n",
       "      <td>120000.0</td>\n",
       "      <td>26</td>\n",
       "      <td>2682.0</td>\n",
       "      <td>1725.0</td>\n",
       "      <td>2682.0</td>\n",
       "      <td>3272.0</td>\n",
       "      <td>3455.0</td>\n",
       "      <td>3261.0</td>\n",
       "      <td>0.0</td>\n",
       "      <td>1000.0</td>\n",
       "      <td>...</td>\n",
       "      <td>0</td>\n",
       "      <td>0</td>\n",
       "      <td>0</td>\n",
       "      <td>1</td>\n",
       "      <td>0</td>\n",
       "      <td>0</td>\n",
       "      <td>0</td>\n",
       "      <td>0</td>\n",
       "      <td>0</td>\n",
       "      <td>0</td>\n",
       "    </tr>\n",
       "    <tr>\n",
       "      <th>2</th>\n",
       "      <td>90000.0</td>\n",
       "      <td>34</td>\n",
       "      <td>29239.0</td>\n",
       "      <td>14027.0</td>\n",
       "      <td>13559.0</td>\n",
       "      <td>14331.0</td>\n",
       "      <td>14948.0</td>\n",
       "      <td>15549.0</td>\n",
       "      <td>1518.0</td>\n",
       "      <td>1500.0</td>\n",
       "      <td>...</td>\n",
       "      <td>0</td>\n",
       "      <td>0</td>\n",
       "      <td>1</td>\n",
       "      <td>0</td>\n",
       "      <td>0</td>\n",
       "      <td>0</td>\n",
       "      <td>0</td>\n",
       "      <td>0</td>\n",
       "      <td>0</td>\n",
       "      <td>0</td>\n",
       "    </tr>\n",
       "    <tr>\n",
       "      <th>3</th>\n",
       "      <td>50000.0</td>\n",
       "      <td>37</td>\n",
       "      <td>46990.0</td>\n",
       "      <td>48233.0</td>\n",
       "      <td>49291.0</td>\n",
       "      <td>28314.0</td>\n",
       "      <td>28959.0</td>\n",
       "      <td>29547.0</td>\n",
       "      <td>2000.0</td>\n",
       "      <td>2019.0</td>\n",
       "      <td>...</td>\n",
       "      <td>0</td>\n",
       "      <td>0</td>\n",
       "      <td>1</td>\n",
       "      <td>0</td>\n",
       "      <td>0</td>\n",
       "      <td>0</td>\n",
       "      <td>0</td>\n",
       "      <td>0</td>\n",
       "      <td>0</td>\n",
       "      <td>0</td>\n",
       "    </tr>\n",
       "    <tr>\n",
       "      <th>4</th>\n",
       "      <td>50000.0</td>\n",
       "      <td>57</td>\n",
       "      <td>8617.0</td>\n",
       "      <td>5670.0</td>\n",
       "      <td>35835.0</td>\n",
       "      <td>20940.0</td>\n",
       "      <td>19146.0</td>\n",
       "      <td>19131.0</td>\n",
       "      <td>2000.0</td>\n",
       "      <td>36681.0</td>\n",
       "      <td>...</td>\n",
       "      <td>0</td>\n",
       "      <td>0</td>\n",
       "      <td>1</td>\n",
       "      <td>0</td>\n",
       "      <td>0</td>\n",
       "      <td>0</td>\n",
       "      <td>0</td>\n",
       "      <td>0</td>\n",
       "      <td>0</td>\n",
       "      <td>0</td>\n",
       "    </tr>\n",
       "  </tbody>\n",
       "</table>\n",
       "<p>5 rows × 83 columns</p>\n",
       "</div>"
      ],
      "text/plain": [
       "   limit_bal  age  bill_amt1  bill_amt2  bill_amt3  bill_amt4  bill_amt5  \\\n",
       "0    20000.0   24     3913.0     3102.0      689.0        0.0        0.0   \n",
       "1   120000.0   26     2682.0     1725.0     2682.0     3272.0     3455.0   \n",
       "2    90000.0   34    29239.0    14027.0    13559.0    14331.0    14948.0   \n",
       "3    50000.0   37    46990.0    48233.0    49291.0    28314.0    28959.0   \n",
       "4    50000.0   57     8617.0     5670.0    35835.0    20940.0    19146.0   \n",
       "\n",
       "   bill_amt6  pay_amt1  pay_amt2  ...  pay_5_8  pay_6_-1  pay_6_0  pay_6_2  \\\n",
       "0        0.0       0.0     689.0  ...        0         0        0        0   \n",
       "1     3261.0       0.0    1000.0  ...        0         0        0        1   \n",
       "2    15549.0    1518.0    1500.0  ...        0         0        1        0   \n",
       "3    29547.0    2000.0    2019.0  ...        0         0        1        0   \n",
       "4    19131.0    2000.0   36681.0  ...        0         0        1        0   \n",
       "\n",
       "   pay_6_3  pay_6_4  pay_6_5  pay_6_6  pay_6_7  pay_6_8  \n",
       "0        0        0        0        0        0        0  \n",
       "1        0        0        0        0        0        0  \n",
       "2        0        0        0        0        0        0  \n",
       "3        0        0        0        0        0        0  \n",
       "4        0        0        0        0        0        0  \n",
       "\n",
       "[5 rows x 83 columns]"
      ]
     },
     "execution_count": 4,
     "metadata": {},
     "output_type": "execute_result"
    }
   ],
   "source": [
    "data.head()"
   ]
  },
  {
   "cell_type": "code",
   "execution_count": 5,
   "id": "39e4baf6",
   "metadata": {},
   "outputs": [
    {
     "name": "stdout",
     "output_type": "stream",
     "text": [
      "AutoPlotter is running on http://127.0.0.1:8050/\n"
     ]
    }
   ],
   "source": [
    "run_app(data, mode='external')"
   ]
  },
  {
   "cell_type": "markdown",
   "id": "96bc0c52",
   "metadata": {},
   "source": [
    "#### Feature selection"
   ]
  },
  {
   "cell_type": "code",
   "execution_count": 6,
   "id": "af53f6d1",
   "metadata": {},
   "outputs": [
    {
     "data": {
      "text/plain": [
       "Index(['limit_bal', 'age', 'bill_amt1', 'bill_amt2', 'bill_amt3', 'bill_amt4',\n",
       "       'bill_amt5', 'bill_amt6', 'pay_amt1', 'pay_amt2', 'pay_amt3',\n",
       "       'pay_amt4', 'pay_amt5', 'pay_amt6', 'default_payment_next_month',\n",
       "       'female', 'education_1', 'education_2', 'education_3', 'education_4',\n",
       "       'education_5', 'education_6', 'marriage_1', 'marriage_2', 'marriage_3',\n",
       "       'pay_1_-1', 'pay_1_0', 'pay_1_1', 'pay_1_2', 'pay_1_3', 'pay_1_4',\n",
       "       'pay_1_5', 'pay_1_6', 'pay_1_7', 'pay_1_8', 'pay_2_-1', 'pay_2_0',\n",
       "       'pay_2_1', 'pay_2_2', 'pay_2_3', 'pay_2_4', 'pay_2_5', 'pay_2_6',\n",
       "       'pay_2_7', 'pay_2_8', 'pay_3_-1', 'pay_3_0', 'pay_3_1', 'pay_3_2',\n",
       "       'pay_3_3', 'pay_3_4', 'pay_3_5', 'pay_3_6', 'pay_3_7', 'pay_3_8',\n",
       "       'pay_4_-1', 'pay_4_0', 'pay_4_1', 'pay_4_2', 'pay_4_3', 'pay_4_4',\n",
       "       'pay_4_5', 'pay_4_6', 'pay_4_7', 'pay_4_8', 'pay_5_-1', 'pay_5_0',\n",
       "       'pay_5_2', 'pay_5_3', 'pay_5_4', 'pay_5_5', 'pay_5_6', 'pay_5_7',\n",
       "       'pay_5_8', 'pay_6_-1', 'pay_6_0', 'pay_6_2', 'pay_6_3', 'pay_6_4',\n",
       "       'pay_6_5', 'pay_6_6', 'pay_6_7', 'pay_6_8'],\n",
       "      dtype='object')"
      ]
     },
     "execution_count": 6,
     "metadata": {},
     "output_type": "execute_result"
    }
   ],
   "source": [
    "data.columns"
   ]
  },
  {
   "cell_type": "code",
   "execution_count": 7,
   "id": "a9378b55",
   "metadata": {},
   "outputs": [],
   "source": [
    "important_columns = ['pay_amt4', 'pay_amt5', 'pay_1_2', 'pay_1_3', 'pay_1_4','pay_2_2', 'pay_2_3', 'pay_3_3', 'pay_3_4', 'pay_3_7', 'pay_4_3','pay_4_4', 'pay_4_7', 'pay_5_2', 'pay_5_3', 'pay_5_4', 'pay_5_7','pay_6_3', 'pay_6_4', 'pay_6_7', 'age']"
   ]
  },
  {
   "cell_type": "code",
   "execution_count": 8,
   "id": "eb6a0e70",
   "metadata": {},
   "outputs": [
    {
     "data": {
      "text/plain": [
       "['age',\n",
       " 'pay_amt4',\n",
       " 'pay_amt5',\n",
       " 'pay_1_2',\n",
       " 'pay_1_3',\n",
       " 'pay_1_4',\n",
       " 'pay_2_2',\n",
       " 'pay_2_3',\n",
       " 'pay_3_3',\n",
       " 'pay_3_4',\n",
       " 'pay_3_7',\n",
       " 'pay_4_3',\n",
       " 'pay_4_4',\n",
       " 'pay_4_7',\n",
       " 'pay_5_2',\n",
       " 'pay_5_3',\n",
       " 'pay_5_4',\n",
       " 'pay_5_7',\n",
       " 'pay_6_3',\n",
       " 'pay_6_4',\n",
       " 'pay_6_7']"
      ]
     },
     "execution_count": 8,
     "metadata": {},
     "output_type": "execute_result"
    }
   ],
   "source": [
    "output = 'default_payment_next_month'\n",
    "\n",
    "cols = [f for f in data.columns if data.dtypes[ f ] != \"object\"]\n",
    "cols = [f for f in cols if f in important_columns]\n",
    "cols"
   ]
  },
  {
   "cell_type": "code",
   "execution_count": 9,
   "id": "4d7f8763",
   "metadata": {},
   "outputs": [],
   "source": [
    "features = cols"
   ]
  },
  {
   "cell_type": "code",
   "execution_count": 10,
   "id": "71dd47e2",
   "metadata": {},
   "outputs": [
    {
     "data": {
      "text/plain": [
       "default_payment_next_month\n",
       "0    23364\n",
       "1     6636\n",
       "dtype: int64"
      ]
     },
     "execution_count": 10,
     "metadata": {},
     "output_type": "execute_result"
    }
   ],
   "source": [
    "data.groupby(['default_payment_next_month']).size()"
   ]
  },
  {
   "cell_type": "markdown",
   "id": "3fd17da9",
   "metadata": {},
   "source": [
    "Identificamos que el dataset se encuentra desbalanceado, con una proporción alrededor de 80:20 en cuanto a 0s y 1s en la columna default_payment_next_month"
   ]
  },
  {
   "cell_type": "markdown",
   "id": "20659035",
   "metadata": {},
   "source": [
    "##### Data scaling"
   ]
  },
  {
   "cell_type": "code",
   "execution_count": 11,
   "id": "d28879f8",
   "metadata": {},
   "outputs": [],
   "source": [
    "from sklearn.preprocessing import StandardScaler\n",
    "from sklearn.model_selection import train_test_split\n",
    "\n",
    "from imblearn.over_sampling import RandomOverSampler"
   ]
  },
  {
   "cell_type": "code",
   "execution_count": 12,
   "id": "8c2a3724",
   "metadata": {},
   "outputs": [],
   "source": [
    "X = data[features].values \n",
    "y = data[output].values\n",
    "\n",
    "X_train, X_test, y_train, y_test = train_test_split(X, y, test_size=0.2)\n",
    "\n",
    "scX = StandardScaler()\n",
    "X_train = scX.fit_transform(X_train)\n",
    "X_test = scX.transform(X_test)"
   ]
  },
  {
   "cell_type": "code",
   "execution_count": 13,
   "id": "b2340cbf",
   "metadata": {},
   "outputs": [
    {
     "data": {
      "text/plain": [
       "21"
      ]
     },
     "execution_count": 13,
     "metadata": {},
     "output_type": "execute_result"
    }
   ],
   "source": [
    "len(data[features].columns)"
   ]
  },
  {
   "cell_type": "code",
   "execution_count": 14,
   "id": "584920df",
   "metadata": {},
   "outputs": [],
   "source": [
    "with open('./models/scaler.pkl', 'wb') as f:\n",
    "    pickle.dump(scX, f)"
   ]
  },
  {
   "cell_type": "code",
   "execution_count": 15,
   "id": "c068cbcc",
   "metadata": {},
   "outputs": [],
   "source": [
    "over_sampler = RandomOverSampler(random_state=42)\n",
    "X_osample, y_osample = over_sampler.fit_resample(X_train, y_train)"
   ]
  },
  {
   "cell_type": "code",
   "execution_count": 16,
   "id": "ab7412c7",
   "metadata": {},
   "outputs": [
    {
     "name": "stdout",
     "output_type": "stream",
     "text": [
      "Training target statistics: Counter({0: 18727, 1: 18727})\n",
      "Testing target statistics: Counter({0: 4637, 1: 1363})\n"
     ]
    }
   ],
   "source": [
    "print(f\"Training target statistics: {Counter(y_osample)}\")\n",
    "print(f\"Testing target statistics: {Counter(y_test)}\")"
   ]
  },
  {
   "cell_type": "code",
   "execution_count": 17,
   "id": "4f53eab6",
   "metadata": {},
   "outputs": [],
   "source": [
    "with open('./models/x_test.pkl', 'wb') as f:\n",
    "    pickle.dump(X_test, f)\n",
    "    \n",
    "with open('./models/y_test.pkl', 'wb') as f:\n",
    "    pickle.dump(y_test, f)"
   ]
  },
  {
   "cell_type": "markdown",
   "id": "e3715059",
   "metadata": {},
   "source": [
    "##### Imports for evaluation"
   ]
  },
  {
   "cell_type": "code",
   "execution_count": 18,
   "id": "95610781",
   "metadata": {},
   "outputs": [],
   "source": [
    "from sklearn.metrics import confusion_matrix, accuracy_score, classification_report, mean_squared_error, precision_recall_curve\n",
    "from scikitplot.metrics import plot_roc"
   ]
  },
  {
   "cell_type": "markdown",
   "id": "f71dae9d",
   "metadata": {},
   "source": [
    "### Logistic Regression Model"
   ]
  },
  {
   "cell_type": "code",
   "execution_count": 20,
   "id": "4b959107",
   "metadata": {},
   "outputs": [],
   "source": [
    "from sklearn.linear_model import LogisticRegression, RidgeClassifier\n",
    "from statsmodels.stats.outliers_influence import variance_inflation_factor\n",
    "\n",
    "log_model = LogisticRegression(solver='liblinear', C=10)\n",
    "log_model.fit(X_osample, y_osample)\n",
    "\n",
    "log_preds = log_model.predict(X_test)"
   ]
  },
  {
   "cell_type": "code",
   "execution_count": 21,
   "id": "83a57aae",
   "metadata": {},
   "outputs": [
    {
     "data": {
      "image/png": "[encoded data removed]",
      "text/plain": [
       "<Figure size 432x288 with 2 Axes>"
      ]
     },
     "metadata": {
      "needs_background": "light"
     },
     "output_type": "display_data"
    }
   ],
   "source": [
    "log_cm = confusion_matrix(y_test, log_preds)\n",
    "\n",
    "ax = sns.heatmap(log_cm/np.sum(log_cm), annot=True, fmt='0.2%', cmap='BuPu')\n",
    "\n",
    "ax.set_title('Logistic Regression Confusion Matrix\\n');\n",
    "\n",
    "ax.set_xlabel('\\nPredicted Values')\n",
    "ax.set_ylabel('Actual Values ');\n",
    "\n",
    "plt.show()"
   ]
  },
  {
   "cell_type": "code",
   "execution_count": 22,
   "id": "ad6981bf",
   "metadata": {},
   "outputs": [
    {
     "name": "stdout",
     "output_type": "stream",
     "text": [
      "              precision    recall  f1-score   support\n",
      "\n",
      "           0       0.86      0.88      0.87      4637\n",
      "           1       0.57      0.52      0.54      1363\n",
      "\n",
      "    accuracy                           0.80      6000\n",
      "   macro avg       0.71      0.70      0.71      6000\n",
      "weighted avg       0.79      0.80      0.80      6000\n",
      "\n"
     ]
    }
   ],
   "source": [
    "print(classification_report(y_test, log_preds))"
   ]
  },
  {
   "cell_type": "code",
   "execution_count": 23,
   "id": "87cfba7a",
   "metadata": {},
   "outputs": [
    {
     "data": {
      "image/png": "[encoded data removed]",
      "text/plain": [
       "<Figure size 432x288 with 1 Axes>"
      ]
     },
     "metadata": {
      "needs_background": "light"
     },
     "output_type": "display_data"
    }
   ],
   "source": [
    "plot_roc(y_test, log_model.predict_proba(X_test))\n",
    "plt.show()"
   ]
  },
  {
   "cell_type": "code",
   "execution_count": 24,
   "id": "1f128709",
   "metadata": {},
   "outputs": [],
   "source": [
    "log_precision, log_recall, _ = precision_recall_curve(y_test, log_model.predict_proba(X_test)[:, 1])"
   ]
  },
  {
   "cell_type": "code",
   "execution_count": 25,
   "id": "f5c23952",
   "metadata": {},
   "outputs": [
    {
     "data": {
      "image/png": "[encoded data removed]",
      "text/plain": [
       "<Figure size 432x288 with 1 Axes>"
      ]
     },
     "metadata": {
      "needs_background": "light"
     },
     "output_type": "display_data"
    }
   ],
   "source": [
    "plt.plot(log_recall, log_precision, marker='.', label='Logistic Regression')\n",
    "# axis labels\n",
    "plt.xlabel('Recall')\n",
    "plt.ylabel('Precision')\n",
    "# show the legend\n",
    "plt.legend()\n",
    "# show the plot\n",
    "plt.show()"
   ]
  },
  {
   "cell_type": "code",
   "execution_count": 26,
   "id": "fee82f4b",
   "metadata": {},
   "outputs": [],
   "source": [
    "with open('./models/log.pkl', 'wb') as f:\n",
    "    pickle.dump(log_model, f)\n",
    "    \n",
    "with open('./models/log_cm.pkl', 'wb') as f:\n",
    "    pickle.dump(log_cm, f)"
   ]
  },
  {
   "cell_type": "markdown",
   "id": "8d4a4bd3",
   "metadata": {},
   "source": [
    "### SVM Model"
   ]
  },
  {
   "cell_type": "code",
   "execution_count": 27,
   "id": "3da3e74f",
   "metadata": {},
   "outputs": [],
   "source": [
    "from sklearn import svm\n",
    "from sklearn.metrics import accuracy_score, recall_score, precision_score\n",
    "\n",
    "svm_model = svm.SVC(\n",
    "    probability=True,\n",
    "    kernel=\"rbf\"\n",
    ")\n",
    "svm_model.fit(X_osample, y_osample)\n",
    "svm_preds = svm_model.predict(X_test)"
   ]
  },
  {
   "cell_type": "code",
   "execution_count": 28,
   "id": "9603eebb",
   "metadata": {},
   "outputs": [
    {
     "data": {
      "image/png": "[encoded data removed]",
      "text/plain": [
       "<Figure size 432x288 with 2 Axes>"
      ]
     },
     "metadata": {
      "needs_background": "light"
     },
     "output_type": "display_data"
    }
   ],
   "source": [
    "svm_cm = confusion_matrix(y_test, svm_preds)\n",
    "\n",
    "sns.heatmap(svm_cm/np.sum(svm_cm), annot=True, fmt='0.2%', cmap='BuPu')\n",
    "\n",
    "ax.set_title('SVM Confusion Matrix\\n');\n",
    "\n",
    "ax.set_xlabel('\\nPredicted Values')\n",
    "ax.set_ylabel('Actual Values ');\n",
    "\n",
    "plt.show()"
   ]
  },
  {
   "cell_type": "code",
   "execution_count": 29,
   "id": "12ad8153",
   "metadata": {},
   "outputs": [
    {
     "name": "stdout",
     "output_type": "stream",
     "text": [
      "              precision    recall  f1-score   support\n",
      "\n",
      "           0       0.86      0.88      0.87      4637\n",
      "           1       0.56      0.52      0.54      1363\n",
      "\n",
      "    accuracy                           0.80      6000\n",
      "   macro avg       0.71      0.70      0.70      6000\n",
      "weighted avg       0.79      0.80      0.80      6000\n",
      "\n"
     ]
    }
   ],
   "source": [
    "print(classification_report(y_test, svm_preds))"
   ]
  },
  {
   "cell_type": "code",
   "execution_count": 30,
   "id": "0ccd84f7",
   "metadata": {},
   "outputs": [
    {
     "data": {
      "image/png": "[encoded data removed]",
      "text/plain": [
       "<Figure size 432x288 with 1 Axes>"
      ]
     },
     "metadata": {
      "needs_background": "light"
     },
     "output_type": "display_data"
    }
   ],
   "source": [
    "plot_roc(y_test, svm_model.predict_proba(X_test))\n",
    "plt.show()"
   ]
  },
  {
   "cell_type": "code",
   "execution_count": 31,
   "id": "a3a59292",
   "metadata": {},
   "outputs": [],
   "source": [
    "svm_precision, svm_recall, _ = precision_recall_curve(y_test, svm_model.predict_proba(X_test)[:, 1])"
   ]
  },
  {
   "cell_type": "code",
   "execution_count": 32,
   "id": "3566e8c2",
   "metadata": {},
   "outputs": [
    {
     "data": {
      "image/png": "[encoded data removed]",
      "text/plain": [
       "<Figure size 432x288 with 1 Axes>"
      ]
     },
     "metadata": {
      "needs_background": "light"
     },
     "output_type": "display_data"
    }
   ],
   "source": [
    "plt.plot(svm_recall, svm_precision, marker='.', label='SVM')\n",
    "# axis labels\n",
    "plt.xlabel('Recall')\n",
    "plt.ylabel('Precision')\n",
    "# show the legend\n",
    "plt.legend()\n",
    "# show the plot\n",
    "plt.show()"
   ]
  },
  {
   "cell_type": "code",
   "execution_count": 33,
   "id": "64ef2d6c",
   "metadata": {},
   "outputs": [],
   "source": [
    "with open('./models/svm.pkl', 'wb') as f:\n",
    "    pickle.dump(svm_model, f)\n",
    "    \n",
    "with open('./models/svm_cm.pkl', 'wb') as f:\n",
    "    pickle.dump(svm_cm, f)"
   ]
  },
  {
   "cell_type": "markdown",
   "id": "ca9965e2",
   "metadata": {},
   "source": [
    "### Random Forest Model"
   ]
  },
  {
   "cell_type": "code",
   "execution_count": 34,
   "id": "27f2d8b0",
   "metadata": {},
   "outputs": [],
   "source": [
    "from sklearn.ensemble import RandomForestClassifier\n",
    "\n",
    "rf_model = RandomForestClassifier(random_state=0)\n",
    "rf_model.fit(X_osample, y_osample)\n",
    "\n",
    "rf_preds = rf_model.predict(X_test)"
   ]
  },
  {
   "cell_type": "code",
   "execution_count": 35,
   "id": "f7b42f1c",
   "metadata": {},
   "outputs": [
    {
     "data": {
      "image/png": "[encoded data removed]",
      "text/plain": [
       "<Figure size 432x288 with 2 Axes>"
      ]
     },
     "metadata": {
      "needs_background": "light"
     },
     "output_type": "display_data"
    }
   ],
   "source": [
    "rf_cm = confusion_matrix(y_test, rf_preds)\n",
    "\n",
    "sns.heatmap(rf_cm/np.sum(rf_cm), annot=True, fmt='0.2%', cmap='BuPu')\n",
    "\n",
    "ax.set_title('Random Forest Confusion Matrix\\n');\n",
    "\n",
    "ax.set_xlabel('\\nPredicted Values')\n",
    "ax.set_ylabel('Actual Values ');\n",
    "\n",
    "plt.show()"
   ]
  },
  {
   "cell_type": "code",
   "execution_count": 36,
   "id": "33d2008a",
   "metadata": {},
   "outputs": [
    {
     "name": "stdout",
     "output_type": "stream",
     "text": [
      "              precision    recall  f1-score   support\n",
      "\n",
      "           0       0.85      0.83      0.84      4637\n",
      "           1       0.46      0.49      0.47      1363\n",
      "\n",
      "    accuracy                           0.75      6000\n",
      "   macro avg       0.65      0.66      0.66      6000\n",
      "weighted avg       0.76      0.75      0.76      6000\n",
      "\n"
     ]
    }
   ],
   "source": [
    "print(classification_report(y_test, rf_preds))"
   ]
  },
  {
   "cell_type": "code",
   "execution_count": 37,
   "id": "f8f7353a",
   "metadata": {},
   "outputs": [
    {
     "data": {
      "image/png": "[encoded data removed]",
      "text/plain": [
       "<Figure size 432x288 with 1 Axes>"
      ]
     },
     "metadata": {
      "needs_background": "light"
     },
     "output_type": "display_data"
    }
   ],
   "source": [
    "plot_roc(y_test, rf_model.predict_proba(X_test))\n",
    "plt.show()"
   ]
  },
  {
   "cell_type": "code",
   "execution_count": 38,
   "id": "d9d99f25",
   "metadata": {},
   "outputs": [],
   "source": [
    "rf_precision, rf_recall, _ = precision_recall_curve(y_test, rf_model.predict_proba(X_test)[:, 1])"
   ]
  },
  {
   "cell_type": "code",
   "execution_count": 39,
   "id": "81d932dc",
   "metadata": {},
   "outputs": [
    {
     "data": {
      "image/png": "[encoded data removed]",
      "text/plain": [
       "<Figure size 432x288 with 1 Axes>"
      ]
     },
     "metadata": {
      "needs_background": "light"
     },
     "output_type": "display_data"
    }
   ],
   "source": [
    "plt.plot(rf_recall, rf_precision, marker='.', label='Random Forest')\n",
    "# axis labels\n",
    "plt.xlabel('Recall')\n",
    "plt.ylabel('Precision')\n",
    "# show the legend\n",
    "plt.legend()\n",
    "# show the plot\n",
    "plt.show()"
   ]
  },
  {
   "cell_type": "markdown",
   "id": "49263906",
   "metadata": {},
   "source": [
    "### XGBoost"
   ]
  },
  {
   "cell_type": "code",
   "execution_count": 41,
   "id": "5b95f2fb",
   "metadata": {},
   "outputs": [],
   "source": [
    "import xgboost as xgb\n",
    "from sklearn.metrics import mean_squared_error"
   ]
  },
  {
   "cell_type": "code",
   "execution_count": 42,
   "id": "f615ffef",
   "metadata": {},
   "outputs": [],
   "source": [
    "dtrain = xgb.DMatrix(X_train, label=y_train)\n",
    "dtest = xgb.DMatrix(X_test, label=y_test)\n",
    "dosample = xgb.DMatrix(X_osample, label=y_osample)"
   ]
  },
  {
   "cell_type": "markdown",
   "id": "a9b9504f",
   "metadata": {},
   "source": [
    "#### Optimización de hiperparámetros"
   ]
  },
  {
   "cell_type": "code",
   "execution_count": 43,
   "id": "328201c0",
   "metadata": {},
   "outputs": [],
   "source": [
    "params = {\n",
    "    # Parameters that we are going to tune.\n",
    "    'max_depth':6,\n",
    "    'min_child_weight': 1,\n",
    "    'eta':.3,\n",
    "    'subsample': 1,\n",
    "    'colsample_bytree': 1,\n",
    "    # Other parameters\n",
    "    'objective':'binary:logistic',\n",
    "    'eval_metric':'auc'\n",
    "}\n",
    "\n",
    "num_boost_round = 999"
   ]
  },
  {
   "cell_type": "code",
   "execution_count": 44,
   "id": "1ef03308",
   "metadata": {},
   "outputs": [],
   "source": [
    "gridsearch_params = [\n",
    "    (max_depth, min_child_weight)\n",
    "    for max_depth in range(9,12)\n",
    "    for min_child_weight in range(5,8)\n",
    "]"
   ]
  },
  {
   "cell_type": "code",
   "execution_count": 45,
   "id": "f211b382",
   "metadata": {},
   "outputs": [
    {
     "name": "stdout",
     "output_type": "stream",
     "text": [
      "CV with max_depth=9, min_child_weight=5\n",
      "\tAUC 0.9028050000000001 for 997 rounds\n",
      "CV with max_depth=9, min_child_weight=6\n",
      "\tAUC 0.8986154 for 998 rounds\n",
      "CV with max_depth=9, min_child_weight=7\n",
      "\tAUC 0.8952009999999999 for 998 rounds\n",
      "CV with max_depth=10, min_child_weight=5\n",
      "\tAUC 0.9064584 for 995 rounds\n",
      "CV with max_depth=10, min_child_weight=6\n",
      "\tAUC 0.90303 for 996 rounds\n",
      "CV with max_depth=10, min_child_weight=7\n",
      "\tAUC 0.8997782000000001 for 998 rounds\n",
      "CV with max_depth=11, min_child_weight=5\n",
      "\tAUC 0.9090961999999999 for 997 rounds\n",
      "CV with max_depth=11, min_child_weight=6\n",
      "\tAUC 0.9065094 for 997 rounds\n",
      "CV with max_depth=11, min_child_weight=7\n",
      "\tAUC 0.9042744 for 998 rounds\n",
      "Best params: 11, 5, AUC: 0.9090961999999999\n"
     ]
    }
   ],
   "source": [
    "max_auc = float(0)\n",
    "best_params = None\n",
    "\n",
    "for max_depth, min_child_weight in gridsearch_params:\n",
    "    print(\"CV with max_depth={}, min_child_weight={}\".format(max_depth, min_child_weight))\n",
    "    \n",
    "    params['max_depth'] = max_depth\n",
    "    params['min_child_weight'] = min_child_weight\n",
    "    \n",
    "    cv_results = xgb.cv(\n",
    "        params,\n",
    "        dosample,\n",
    "        num_boost_round=num_boost_round,\n",
    "        seed=42,\n",
    "        nfold=5,\n",
    "        metrics={'auc'},\n",
    "        early_stopping_rounds=10\n",
    "    )\n",
    "    \n",
    "    mean_auc = cv_results['test-auc-mean'].max()\n",
    "    boost_rounds = cv_results['test-auc-mean'].argmax()\n",
    "    print(\"\\tAUC {} for {} rounds\".format(mean_auc, boost_rounds))\n",
    "    if mean_auc > max_auc:\n",
    "        max_auc = mean_auc\n",
    "        best_params = (max_depth,min_child_weight)\n",
    "    \n",
    "print(\"Best params: {}, {}, AUC: {}\".format(best_params[0], best_params[1], max_auc))"
   ]
  },
  {
   "cell_type": "code",
   "execution_count": 46,
   "id": "17df4dea",
   "metadata": {},
   "outputs": [],
   "source": [
    "#actualizamos parámetros\n",
    "params['max_depth'] = 11\n",
    "params['min_child_weight'] = 5"
   ]
  },
  {
   "cell_type": "code",
   "execution_count": 47,
   "id": "55d05db7",
   "metadata": {},
   "outputs": [],
   "source": [
    "gridsearch_params = [\n",
    "    (subsample, colsample)\n",
    "    for subsample in [i/10. for i in range(7,11)]\n",
    "    for colsample in [i/10. for i in range(7,11)]\n",
    "]"
   ]
  },
  {
   "cell_type": "code",
   "execution_count": 48,
   "id": "0d17bad3",
   "metadata": {},
   "outputs": [
    {
     "name": "stdout",
     "output_type": "stream",
     "text": [
      "CV with subsample=1.0, colsample=1.0\n",
      "\tAUC 0.7427054 for 1 rounds\n",
      "CV with subsample=1.0, colsample=0.9\n",
      "\tAUC 0.7428694 for 1 rounds\n",
      "CV with subsample=1.0, colsample=0.8\n",
      "\tAUC 0.7434154 for 3 rounds\n",
      "CV with subsample=1.0, colsample=0.7\n",
      "\tAUC 0.7441008 for 3 rounds\n",
      "CV with subsample=0.9, colsample=1.0\n",
      "\tAUC 0.7411713999999999 for 4 rounds\n",
      "CV with subsample=0.9, colsample=0.9\n",
      "\tAUC 0.7442712 for 3 rounds\n",
      "CV with subsample=0.9, colsample=0.8\n",
      "\tAUC 0.7442214 for 4 rounds\n",
      "CV with subsample=0.9, colsample=0.7\n",
      "\tAUC 0.743952 for 8 rounds\n",
      "CV with subsample=0.8, colsample=1.0\n",
      "\tAUC 0.7429448000000001 for 1 rounds\n",
      "CV with subsample=0.8, colsample=0.9\n",
      "\tAUC 0.7422114000000001 for 6 rounds\n",
      "CV with subsample=0.8, colsample=0.8\n",
      "\tAUC 0.7425767999999999 for 4 rounds\n",
      "CV with subsample=0.8, colsample=0.7\n",
      "\tAUC 0.7422612 for 4 rounds\n",
      "CV with subsample=0.7, colsample=1.0\n",
      "\tAUC 0.7418359999999999 for 3 rounds\n",
      "CV with subsample=0.7, colsample=0.9\n",
      "\tAUC 0.7428408 for 3 rounds\n",
      "CV with subsample=0.7, colsample=0.8\n",
      "\tAUC 0.744143 for 4 rounds\n",
      "CV with subsample=0.7, colsample=0.7\n",
      "\tAUC 0.7439205999999998 for 4 rounds\n",
      "Best params: 0.9, 0.9, AUC: 0.7442712\n"
     ]
    }
   ],
   "source": [
    "max_auc = float(0)\n",
    "best_params = None\n",
    "\n",
    "for subsample, colsample in reversed(gridsearch_params):\n",
    "    print(\"CV with subsample={}, colsample={}\".format(subsample, colsample))\n",
    "    \n",
    "    params['subsample'] = subsample\n",
    "    params['colsample_bytree'] = colsample\n",
    "    \n",
    "    cv_results = xgb.cv(\n",
    "        params,\n",
    "        dtrain,\n",
    "        num_boost_round=num_boost_round,\n",
    "        seed=42,\n",
    "        nfold=5,\n",
    "        metrics={'auc'},\n",
    "        early_stopping_rounds=10\n",
    "    )\n",
    "    \n",
    "    mean_auc = cv_results['test-auc-mean'].max()\n",
    "    boost_rounds = cv_results['test-auc-mean'].argmax()\n",
    "    \n",
    "    print(\"\\tAUC {} for {} rounds\".format(mean_auc, boost_rounds))\n",
    "    if mean_auc > max_auc:\n",
    "        max_auc = mean_auc\n",
    "        best_params = (subsample,colsample)\n",
    "\n",
    "print(\"Best params: {}, {}, AUC: {}\".format(best_params[0], best_params[1], max_auc))"
   ]
  },
  {
   "cell_type": "code",
   "execution_count": 49,
   "id": "98dc550b",
   "metadata": {},
   "outputs": [],
   "source": [
    "# actualizamos parámetros\n",
    "params['subsample'] = 0.9\n",
    "params['colsample_bytree'] = 0.7"
   ]
  },
  {
   "cell_type": "code",
   "execution_count": 50,
   "id": "6369a866",
   "metadata": {},
   "outputs": [
    {
     "name": "stdout",
     "output_type": "stream",
     "text": [
      "CPU times: user 40 µs, sys: 1e+03 ns, total: 41 µs\n",
      "Wall time: 27.9 µs\n",
      "CV with eta=0.05\n",
      "CPU times: user 9.96 s, sys: 171 ms, total: 10.1 s\n",
      "Wall time: 2.99 s\n",
      "\tAUC 0.7489455999999999 for 13 rounds\n",
      "CV with eta=0.1\n",
      "CPU times: user 8.99 s, sys: 189 ms, total: 9.18 s\n",
      "Wall time: 3.97 s\n",
      "\tAUC 0.7471502000000001 for 11 rounds\n",
      "CV with eta=0.2\n",
      "CPU times: user 8.21 s, sys: 91.3 ms, total: 8.3 s\n",
      "Wall time: 2.24 s\n",
      "\tAUC 0.7452516 for 9 rounds\n",
      "CV with eta=0.3\n",
      "CPU times: user 7.84 s, sys: 87.8 ms, total: 7.93 s\n",
      "Wall time: 2.19 s\n",
      "\tAUC 0.743952 for 8 rounds\n",
      "Best param: 0.05, AUC: 0.7489455999999999\n"
     ]
    }
   ],
   "source": [
    "%time\n",
    "\n",
    "max_auc = float(0)\n",
    "best_params = None\n",
    "\n",
    "for eta in [0.05, 0.1, 0.2, 0.3]:\n",
    "    print(\"CV with eta={}\".format(eta))\n",
    "    \n",
    "    params['eta'] = eta\n",
    "    %time cv_results = xgb.cv(params,dtrain,num_boost_round=num_boost_round,seed=42,nfold=5,metrics=['auc'],early_stopping_rounds=10)\n",
    "    \n",
    "    mean_auc = cv_results['test-auc-mean'].max()\n",
    "    boost_rounds = cv_results['test-auc-mean'].argmax()\n",
    "    \n",
    "    print(\"\\tAUC {} for {} rounds\".format(mean_auc, boost_rounds))\n",
    "    if mean_auc > max_auc:\n",
    "        max_auc = mean_auc\n",
    "        best_param = eta\n",
    "\n",
    "print(\"Best param: {}, AUC: {}\".format(best_param, max_auc))"
   ]
  },
  {
   "cell_type": "code",
   "execution_count": 51,
   "id": "a3ed85c6",
   "metadata": {},
   "outputs": [],
   "source": [
    "params['eta'] = 0.05"
   ]
  },
  {
   "cell_type": "code",
   "execution_count": 52,
   "id": "0a578d4d",
   "metadata": {},
   "outputs": [
    {
     "data": {
      "text/plain": [
       "{'max_depth': 11,\n",
       " 'min_child_weight': 5,\n",
       " 'eta': 0.05,\n",
       " 'subsample': 0.9,\n",
       " 'colsample_bytree': 0.7,\n",
       " 'objective': 'binary:logistic',\n",
       " 'eval_metric': 'auc'}"
      ]
     },
     "execution_count": 52,
     "metadata": {},
     "output_type": "execute_result"
    }
   ],
   "source": [
    "params"
   ]
  },
  {
   "cell_type": "markdown",
   "id": "634c028c",
   "metadata": {},
   "source": [
    "#### Training y testing"
   ]
  },
  {
   "cell_type": "code",
   "execution_count": 53,
   "id": "db3d6dc7",
   "metadata": {},
   "outputs": [
    {
     "name": "stdout",
     "output_type": "stream",
     "text": [
      "[0]\tTest-auc:0.74058\n",
      "[1]\tTest-auc:0.74501\n",
      "[2]\tTest-auc:0.74810\n",
      "[3]\tTest-auc:0.74627\n",
      "[4]\tTest-auc:0.75379\n",
      "[5]\tTest-auc:0.75148\n",
      "[6]\tTest-auc:0.75640\n",
      "[7]\tTest-auc:0.75799\n",
      "[8]\tTest-auc:0.75836\n",
      "[9]\tTest-auc:0.75772\n",
      "[10]\tTest-auc:0.75875\n",
      "[11]\tTest-auc:0.75924\n",
      "[12]\tTest-auc:0.75881\n",
      "[13]\tTest-auc:0.75888\n",
      "[14]\tTest-auc:0.75993\n",
      "[15]\tTest-auc:0.76057\n",
      "[16]\tTest-auc:0.76096\n",
      "[17]\tTest-auc:0.76077\n",
      "[18]\tTest-auc:0.76020\n",
      "[19]\tTest-auc:0.76040\n",
      "[20]\tTest-auc:0.76082\n",
      "[21]\tTest-auc:0.76103\n",
      "[22]\tTest-auc:0.76081\n",
      "[23]\tTest-auc:0.76033\n",
      "[24]\tTest-auc:0.76030\n",
      "[25]\tTest-auc:0.76007\n",
      "[26]\tTest-auc:0.76035\n",
      "[27]\tTest-auc:0.76067\n",
      "[28]\tTest-auc:0.76058\n",
      "[29]\tTest-auc:0.76085\n",
      "[30]\tTest-auc:0.76076\n"
     ]
    }
   ],
   "source": [
    "xgb_model = xgb.train(\n",
    "    params,\n",
    "    dosample,\n",
    "    num_boost_round=num_boost_round,\n",
    "    evals=[(dtest, \"Test\")],\n",
    "    early_stopping_rounds=10\n",
    ")\n",
    "\n",
    "xgb_preds = xgb_model.predict(dtest)\n",
    "\n",
    "binary_preds = [0 if x < 0.5 else 1 for x in xgb_preds]"
   ]
  },
  {
   "cell_type": "markdown",
   "id": "d4c15427",
   "metadata": {},
   "source": [
    "#### Evaluación"
   ]
  },
  {
   "cell_type": "code",
   "execution_count": 54,
   "id": "88d9cb1d",
   "metadata": {},
   "outputs": [
    {
     "data": {
      "image/png": "[encoded data removed]",
      "text/plain": [
       "<Figure size 432x288 with 2 Axes>"
      ]
     },
     "metadata": {
      "needs_background": "light"
     },
     "output_type": "display_data"
    }
   ],
   "source": [
    "xgb_cm = confusion_matrix(y_test, binary_preds)\n",
    "\n",
    "sns.heatmap(xgb_cm/np.sum(xgb_cm), annot=True, fmt='0.2%', cmap='BuPu')\n",
    "\n",
    "ax.set_title('XG Boost Confusion Matrix\\n');\n",
    "\n",
    "ax.set_xlabel('\\nPredicted Values')\n",
    "ax.set_ylabel('Actual Values ');\n",
    "\n",
    "plt.show()"
   ]
  },
  {
   "cell_type": "code",
   "execution_count": 55,
   "id": "37c8246b",
   "metadata": {},
   "outputs": [
    {
     "name": "stdout",
     "output_type": "stream",
     "text": [
      "              precision    recall  f1-score   support\n",
      "\n",
      "           0       0.87      0.83      0.85      4637\n",
      "           1       0.49      0.57      0.53      1363\n",
      "\n",
      "    accuracy                           0.77      6000\n",
      "   macro avg       0.68      0.70      0.69      6000\n",
      "weighted avg       0.78      0.77      0.78      6000\n",
      "\n"
     ]
    }
   ],
   "source": [
    "print(classification_report(y_test, binary_preds))"
   ]
  },
  {
   "cell_type": "code",
   "execution_count": 56,
   "id": "abbc957b",
   "metadata": {},
   "outputs": [
    {
     "data": {
      "image/png": "[encoded data removed]",
      "text/plain": [
       "<Figure size 432x288 with 1 Axes>"
      ]
     },
     "metadata": {
      "needs_background": "light"
     },
     "output_type": "display_data"
    }
   ],
   "source": [
    "plot_roc(y_test, [[1.0 - f, f] for f in xgb_preds])\n",
    "plt.show()"
   ]
  },
  {
   "cell_type": "code",
   "execution_count": 57,
   "id": "bdaa9f45",
   "metadata": {},
   "outputs": [],
   "source": [
    "xgb_precision, xgb_recall, _ = precision_recall_curve(y_test, xgb_preds)"
   ]
  },
  {
   "cell_type": "code",
   "execution_count": 58,
   "id": "329423b9",
   "metadata": {},
   "outputs": [
    {
     "data": {
      "image/png": "[encoded data removed]",
      "text/plain": [
       "<Figure size 432x288 with 1 Axes>"
      ]
     },
     "metadata": {
      "needs_background": "light"
     },
     "output_type": "display_data"
    }
   ],
   "source": [
    "plt.plot(xgb_recall, xgb_precision, marker='.', label='XGBoost')\n",
    "# axis labels\n",
    "plt.xlabel('Recall')\n",
    "plt.ylabel('Precision')\n",
    "# show the legend\n",
    "plt.legend()\n",
    "# show the plot\n",
    "plt.show()"
   ]
  },
  {
   "cell_type": "code",
   "execution_count": 59,
   "id": "0058be7f",
   "metadata": {},
   "outputs": [
    {
     "data": {
      "text/plain": [
       "XGBRegressor(base_score=0.5, booster='gbtree', colsample_bylevel=1,\n",
       "             colsample_bynode=1, colsample_bytree=0.7, enable_categorical=False,\n",
       "             gamma=0, gpu_id=-1, importance_type=None,\n",
       "             interaction_constraints='', learning_rate=0.05, max_delta_step=0,\n",
       "             max_depth=11, min_child_weight=5, missing=nan,\n",
       "             monotone_constraints='()', n_estimators=100, n_jobs=4,\n",
       "             num_boost_round=999, num_parallel_tree=1, objective='reg:logistic',\n",
       "             predictor='auto', random_state=0, reg_alpha=0, reg_lambda=1,\n",
       "             scale_pos_weight=1, subsample=0.9, tree_method='exact',\n",
       "             validate_parameters=1, verbosity=None)"
      ]
     },
     "execution_count": 59,
     "metadata": {},
     "output_type": "execute_result"
    }
   ],
   "source": [
    "xgb.set_config(verbosity=0)\n",
    "\n",
    "xg_reg = xgb.XGBRegressor(\n",
    "    objective ='reg:logistic', \n",
    "    colsample_bytree = params['colsample_bytree'], \n",
    "    learning_rate = params['eta'],\n",
    "    max_depth = params['max_depth'], \n",
    "    min_child_weight = params['min_child_weight'],\n",
    "    subsample = params['subsample'],\n",
    "    num_boost_round=num_boost_round,\n",
    ")\n",
    "\n",
    "xg_reg.fit(X_train, y_train)"
   ]
  },
  {
   "cell_type": "code",
   "execution_count": 60,
   "id": "887d3bda",
   "metadata": {},
   "outputs": [],
   "source": [
    "with open('./models/xgb.pkl', 'wb') as f:\n",
    "    pickle.dump(xg_reg, f)\n",
    "    \n",
    "with open('./models/xgb_cm.pkl', 'wb') as f:\n",
    "    pickle.dump(xgb_cm, f)"
   ]
  },
  {
   "cell_type": "markdown",
   "id": "33d2fa97",
   "metadata": {},
   "source": [
    "### Visualización de resultados"
   ]
  },
  {
   "cell_type": "code",
   "execution_count": 61,
   "id": "72a6298b",
   "metadata": {},
   "outputs": [],
   "source": [
    "cms = {\n",
    "    'LR': log_cm,\n",
    "    'SVM': svm_cm,\n",
    "    'RF': rf_cm,\n",
    "    'XGB': xgb_cm\n",
    "}\n",
    "models = [key for key in cms.keys()]\n",
    "\n",
    "pres_rec = pd.DataFrame(columns=('model', 'precision', 'recall', 'class'))\n",
    "\n",
    "j = 4\n",
    "for i in range(len(models)):\n",
    "    cm = cms[models[i]]\n",
    "    pres_rec.loc[i] = [\n",
    "        models[i], \n",
    "        cm[0][0]/(cm[0][0]+cm[1][0]), \n",
    "        cm[0][0]/(cm[0][0]+cm[0][1]),\n",
    "        0\n",
    "    ]\n",
    "    pres_rec.loc[j] = [\n",
    "        models[i],\n",
    "        cm[1][1]/(cm[1][1]+cm[0][1]),\n",
    "        cm[1][1]/(cm[1][1]+cm[1][0]),\n",
    "        1\n",
    "    ]\n",
    "    j += 1"
   ]
  },
  {
   "cell_type": "code",
   "execution_count": 62,
   "id": "6608a906",
   "metadata": {},
   "outputs": [
    {
     "data": {
      "text/html": [
       "<div>\n",
       "<style scoped>\n",
       "    .dataframe tbody tr th:only-of-type {\n",
       "        vertical-align: middle;\n",
       "    }\n",
       "\n",
       "    .dataframe tbody tr th {\n",
       "        vertical-align: top;\n",
       "    }\n",
       "\n",
       "    .dataframe thead th {\n",
       "        text-align: right;\n",
       "    }\n",
       "</style>\n",
       "<table border=\"1\" class=\"dataframe\">\n",
       "  <thead>\n",
       "    <tr style=\"text-align: right;\">\n",
       "      <th></th>\n",
       "      <th>model</th>\n",
       "      <th>precision</th>\n",
       "      <th>recall</th>\n",
       "      <th>class</th>\n",
       "    </tr>\n",
       "  </thead>\n",
       "  <tbody>\n",
       "    <tr>\n",
       "      <th>0</th>\n",
       "      <td>LR</td>\n",
       "      <td>0.862352</td>\n",
       "      <td>0.882251</td>\n",
       "      <td>0</td>\n",
       "    </tr>\n",
       "    <tr>\n",
       "      <th>4</th>\n",
       "      <td>LR</td>\n",
       "      <td>0.565287</td>\n",
       "      <td>0.520910</td>\n",
       "      <td>1</td>\n",
       "    </tr>\n",
       "    <tr>\n",
       "      <th>1</th>\n",
       "      <td>SVM</td>\n",
       "      <td>0.861668</td>\n",
       "      <td>0.879879</td>\n",
       "      <td>0</td>\n",
       "    </tr>\n",
       "    <tr>\n",
       "      <th>5</th>\n",
       "      <td>SVM</td>\n",
       "      <td>0.559684</td>\n",
       "      <td>0.519442</td>\n",
       "      <td>1</td>\n",
       "    </tr>\n",
       "    <tr>\n",
       "      <th>2</th>\n",
       "      <td>RF</td>\n",
       "      <td>0.847323</td>\n",
       "      <td>0.829416</td>\n",
       "      <td>0</td>\n",
       "    </tr>\n",
       "    <tr>\n",
       "      <th>6</th>\n",
       "      <td>RF</td>\n",
       "      <td>0.458590</td>\n",
       "      <td>0.491563</td>\n",
       "      <td>1</td>\n",
       "    </tr>\n",
       "    <tr>\n",
       "      <th>3</th>\n",
       "      <td>XGB</td>\n",
       "      <td>0.868385</td>\n",
       "      <td>0.828122</td>\n",
       "      <td>0</td>\n",
       "    </tr>\n",
       "    <tr>\n",
       "      <th>7</th>\n",
       "      <td>XGB</td>\n",
       "      <td>0.494930</td>\n",
       "      <td>0.573001</td>\n",
       "      <td>1</td>\n",
       "    </tr>\n",
       "  </tbody>\n",
       "</table>\n",
       "</div>"
      ],
      "text/plain": [
       "  model  precision    recall class\n",
       "0    LR   0.862352  0.882251     0\n",
       "4    LR   0.565287  0.520910     1\n",
       "1   SVM   0.861668  0.879879     0\n",
       "5   SVM   0.559684  0.519442     1\n",
       "2    RF   0.847323  0.829416     0\n",
       "6    RF   0.458590  0.491563     1\n",
       "3   XGB   0.868385  0.828122     0\n",
       "7   XGB   0.494930  0.573001     1"
      ]
     },
     "execution_count": 62,
     "metadata": {},
     "output_type": "execute_result"
    }
   ],
   "source": [
    "pres_rec"
   ]
  },
  {
   "cell_type": "code",
   "execution_count": 63,
   "id": "3bcbdad6",
   "metadata": {
    "scrolled": false
   },
   "outputs": [
    {
     "data": {
      "image/png": "[encoded data removed]",
      "text/plain": [
       "<Figure size 864x576 with 1 Axes>"
      ]
     },
     "metadata": {},
     "output_type": "display_data"
    }
   ],
   "source": [
    "plt.figure(figsize=(12,8))\n",
    "\n",
    "sns.set(style='dark')\n",
    "sns.scatterplot(data=pres_rec, x='recall', y='precision', hue='class', style='class',palette='hot')\n",
    "\n",
    "plt.title(f\"Oversampled Data Precision vs Recall\")\n",
    "\n",
    "plt.xlabel('RECALL')\n",
    "plt.ylabel('PRECISION')\n",
    "          \n",
    "for i in range(pres_rec.shape[0]):\n",
    "    plt.text(pres_rec.recall[i], y=pres_rec.precision[i], s=pres_rec.model[i], alpha=0.8)\n",
    "\n",
    "plt.axhline(y=0.5, color='white', linestyle='--', linewidth=2)\n",
    "plt.axvline(x=0.5, color='white',linestyle='--', linewidth=2)\n",
    "\n",
    "plt.text(x=0.75, y=0.9, s=\"Q1\",alpha=0.7,fontsize=14, color='b')\n",
    "plt.text(x=0.25, y=0.9, s=\"Q2\",alpha=0.7,fontsize=14, color='b')\n",
    "plt.text(x=0.75, y=0.4, s=\"Q3\", alpha=0.7,fontsize=14, color='b')\n",
    "plt.text(x=0.25, y=0.4, s=\"Q4\", alpha=0.7,fontsize=14, color='b')\n",
    "\n",
    "plt.xticks(np.arange(0, 1.25, 0.25))\n",
    "plt.yticks(np.arange(0, 1.25, 0.25))\n",
    "\n",
    "plt.gca().axes.yaxis.set_ticks([])\n",
    "plt.gca().axes.xaxis.set_ticks([])\n",
    "\n",
    "plt.show()"
   ]
  },
  {
   "cell_type": "markdown",
   "id": "54e35e40",
   "metadata": {},
   "source": [
    "La gráfica muestra el balance entre la precision y recall de cada modelo, para cada una de las clases (0: no cae en default, 1: sí cae).\n",
    "\n",
    "* El Q1, se refiere a los modelos con mejor funcionamiento en su respectiva clase.\n",
    "* Q2 significa que el modelo no detecta muy bien la clase, pero cuando lo hace es confiable.\n",
    "* Q3, la clase se detecta bien, pero incluye también datos pertenecientes a la otra clase\n",
    "* Q4, la clase no se maneja correctamente"
   ]
  }
 ],
 "metadata": {
  "kernelspec": {
   "display_name": "Python 3 (ipykernel)",
   "language": "python",
   "name": "python3"
  },
  "language_info": {
   "codemirror_mode": {
    "name": "ipython",
    "version": 3
   },
   "file_extension": ".py",
   "mimetype": "text/x-python",
   "name": "python",
   "nbconvert_exporter": "python",
   "pygments_lexer": "ipython3",
   "version": "3.7.12"
  }
 },
 "nbformat": 4,
 "nbformat_minor": 5
}
